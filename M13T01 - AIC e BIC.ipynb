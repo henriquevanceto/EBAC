{
 "cells": [
  {
   "cell_type": "markdown",
   "metadata": {},
   "source": [
    "# EBAC - Regressão II - regressão múltipla\n",
    "\n",
    "## Tarefa I"
   ]
  },
  {
   "cell_type": "markdown",
   "metadata": {},
   "source": [
    "#### Previsão de renda\n",
    "\n",
    "Vamos trabalhar com a base 'previsao_de_renda.csv', que é a base do seu próximo projeto. Vamos usar os recursos que vimos até aqui nesta base.\n",
    "\n",
    "|variavel|descrição|\n",
    "|-|-|\n",
    "|data_ref                | Data de referência de coleta das variáveis |\n",
    "|index                   | Código de identificação do cliente|\n",
    "|sexo                    | Sexo do cliente|\n",
    "|posse_de_veiculo        | Indica se o cliente possui veículo|\n",
    "|posse_de_imovel         | Indica se o cliente possui imóvel|\n",
    "|qtd_filhos              | Quantidade de filhos do cliente|\n",
    "|tipo_renda              | Tipo de renda do cliente|\n",
    "|educacao                | Grau de instrução do cliente|\n",
    "|estado_civil            | Estado civil do cliente|\n",
    "|tipo_residencia         | Tipo de residência do cliente (própria, alugada etc)|\n",
    "|idade                   | Idade do cliente|\n",
    "|tempo_emprego           | Tempo no emprego atual|\n",
    "|qt_pessoas_residencia   | Quantidade de pessoas que moram na residência|\n",
    "|renda                   | Renda em reais|"
   ]
  },
  {
   "cell_type": "code",
   "execution_count": 1,
   "metadata": {},
   "outputs": [],
   "source": [
    "import pandas as pd\n",
    "import numpy as np\n",
    "\n",
    "import seaborn as sns\n",
    "import matplotlib.pyplot as plt\n",
    "\n",
    "# from sklearn.model_selection import train_test_split\n",
    "# from sklearn import metrics\n",
    "# from sklearn.ensemble import RandomForestClassifier\n",
    "from patsy import dmatrices\n",
    "# from scipy.stats import ks_2samp\n",
    "import statsmodels.formula.api as smf\n",
    "import statsmodels.api as sm\n",
    "import patsy\n",
    "\n",
    "%matplotlib inline"
   ]
  },
  {
   "cell_type": "code",
   "execution_count": 2,
   "metadata": {},
   "outputs": [],
   "source": [
    "df = pd.read_csv('previsao_de_renda.csv')"
   ]
  },
  {
   "cell_type": "code",
   "execution_count": 3,
   "metadata": {},
   "outputs": [
    {
     "name": "stdout",
     "output_type": "stream",
     "text": [
      "<class 'pandas.core.frame.DataFrame'>\n",
      "RangeIndex: 15000 entries, 0 to 14999\n",
      "Data columns (total 16 columns):\n",
      " #   Column                 Non-Null Count  Dtype  \n",
      "---  ------                 --------------  -----  \n",
      " 0   Unnamed: 0             15000 non-null  int64  \n",
      " 1   data_ref               15000 non-null  object \n",
      " 2   index                  15000 non-null  int64  \n",
      " 3   sexo                   15000 non-null  object \n",
      " 4   posse_de_veiculo       15000 non-null  bool   \n",
      " 5   posse_de_imovel        15000 non-null  bool   \n",
      " 6   qtd_filhos             15000 non-null  int64  \n",
      " 7   tipo_renda             15000 non-null  object \n",
      " 8   educacao               15000 non-null  object \n",
      " 9   estado_civil           15000 non-null  object \n",
      " 10  tipo_residencia        15000 non-null  object \n",
      " 11  idade                  15000 non-null  int64  \n",
      " 12  tempo_emprego          12466 non-null  float64\n",
      " 13  qt_pessoas_residencia  15000 non-null  float64\n",
      " 14  mau                    15000 non-null  bool   \n",
      " 15  renda                  15000 non-null  float64\n",
      "dtypes: bool(3), float64(3), int64(4), object(6)\n",
      "memory usage: 1.5+ MB\n"
     ]
    }
   ],
   "source": [
    "df.info()"
   ]
  },
  {
   "cell_type": "markdown",
   "metadata": {},
   "source": [
    "1. Ajuste um modelo para prever log(renda) considerando todas as covariáveis disponíveis.\n",
    "    - Utilizando os recursos do Patsy, coloque as variáveis qualitativas como *dummies*.\n",
    "    - Mantenha sempre a categoria mais frequente como casela de referência\n",
    "    - Avalie os parâmetros e veja se parecem fazer sentido prático.  \n",
    "\n",
    "\n",
    "2. Remova a variável menos significante e analise:\n",
    "    - Observe os indicadores que vimos, e avalie se o modelo melhorou ou piorou na sua opinião.\n",
    "    - Observe os parâmetros e veja se algum se alterou muito.  \n",
    "\n",
    "\n",
    "3. Siga removendo as variáveis menos significantes, sempre que o *p-value* for menor que 5%. Compare o modelo final com o inicial. Observe os indicadores e conclua se o modelo parece melhor. \n",
    "    "
   ]
  },
  {
   "cell_type": "code",
   "execution_count": 4,
   "metadata": {
    "scrolled": true
   },
   "outputs": [
    {
     "name": "stdout",
     "output_type": "stream",
     "text": [
      "                            OLS Regression Results                            \n",
      "==============================================================================\n",
      "Dep. Variable:          np.log(renda)   R-squared:                       0.242\n",
      "Model:                            OLS   Adj. R-squared:                  0.240\n",
      "Method:                 Least Squares   F-statistic:                     165.3\n",
      "Date:                Sat, 23 Aug 2025   Prob (F-statistic):               0.00\n",
      "Time:                        19:29:04   Log-Likelihood:                -13204.\n",
      "No. Observations:               12466   AIC:                         2.646e+04\n",
      "Df Residuals:                   12441   BIC:                         2.664e+04\n",
      "Df Model:                          24                                         \n",
      "Covariance Type:            nonrobust                                         \n",
      "=======================================================================================================\n",
      "                                          coef    std err          t      P>|t|      [0.025      0.975]\n",
      "-------------------------------------------------------------------------------------------------------\n",
      "Intercept                               7.2080      0.272     26.527      0.000       6.675       7.741\n",
      "C(sexo)[T.M]                            0.4813      0.014     33.673      0.000       0.453       0.509\n",
      "C(tipo_renda)[T.Bolsista]              -0.0493      0.350     -0.141      0.888      -0.735       0.636\n",
      "C(tipo_renda)[T.Empresário]             0.1786      0.015     12.209      0.000       0.150       0.207\n",
      "C(tipo_renda)[T.Pensionista]            0.3784      0.233      1.623      0.105      -0.079       0.835\n",
      "C(tipo_renda)[T.Servidor público]       0.0950      0.021      4.485      0.000       0.053       0.136\n",
      "C(educacao)[T.Pós graduação]            0.5502      0.175      3.137      0.002       0.206       0.894\n",
      "C(educacao)[T.Secundário]               0.0164      0.071      0.232      0.817      -0.123       0.156\n",
      "C(educacao)[T.Superior completo]        0.1132      0.071      1.587      0.112      -0.027       0.253\n",
      "C(educacao)[T.Superior incompleto]     -0.0097      0.076     -0.127      0.899      -0.159       0.140\n",
      "C(estado_civil)[T.Separado]            -0.0437      0.131     -0.334      0.738      -0.300       0.213\n",
      "C(estado_civil)[T.Solteiro]             0.0169      0.128      0.131      0.895      -0.235       0.269\n",
      "C(estado_civil)[T.União]               -0.0259      0.023     -1.110      0.267      -0.072       0.020\n",
      "C(estado_civil)[T.Viúvo]               -0.0422      0.134     -0.314      0.753      -0.306       0.221\n",
      "C(tipo_residencia)[T.Casa]              0.0148      0.053      0.278      0.781      -0.090       0.119\n",
      "C(tipo_residencia)[T.Com os pais]      -0.0572      0.060     -0.957      0.339      -0.174       0.060\n",
      "C(tipo_residencia)[T.Comunitário]       0.0575      0.103      0.559      0.576      -0.144       0.259\n",
      "C(tipo_residencia)[T.Estúdio]          -0.1094      0.089     -1.232      0.218      -0.283       0.065\n",
      "C(tipo_residencia)[T.Governamental]    -0.0563      0.064     -0.873      0.382      -0.183       0.070\n",
      "posse_de_veiculo[T.True]               -0.0012      0.014     -0.087      0.931      -0.028       0.026\n",
      "posse_de_imovel[T.True]                 0.0849      0.014      6.275      0.000       0.058       0.111\n",
      "qtd_filhos                              0.0087      0.128      0.068      0.946      -0.242       0.260\n",
      "idade                                   0.0052      0.001      6.625      0.000       0.004       0.007\n",
      "tempo_emprego                           0.0482      0.001     48.426      0.000       0.046       0.050\n",
      "qt_pessoas_residencia                   0.0073      0.128      0.057      0.955      -0.243       0.258\n",
      "==============================================================================\n",
      "Omnibus:                        1.155   Durbin-Watson:                   2.015\n",
      "Prob(Omnibus):                  0.561   Jarque-Bera (JB):                1.126\n",
      "Skew:                          -0.011   Prob(JB):                        0.569\n",
      "Kurtosis:                       3.041   Cond. No.                     2.65e+03\n",
      "==============================================================================\n",
      "\n",
      "Notes:\n",
      "[1] Standard Errors assume that the covariance matrix of the errors is correctly specified.\n",
      "[2] The condition number is large, 2.65e+03. This might indicate that there are\n",
      "strong multicollinearity or other numerical problems.\n"
     ]
    }
   ],
   "source": [
    "# 1.\n",
    "formula = \"np.log(renda) ~ C(sexo) + C(tipo_renda) + C(educacao) + C(estado_civil) + C(tipo_residencia) + posse_de_veiculo + posse_de_imovel + qtd_filhos + idade + tempo_emprego + qt_pessoas_residencia\"\n",
    "\n",
    "y, X = dmatrices(formula, data=df, return_type=\"dataframe\")\n",
    "\n",
    "modelo = sm.OLS(y, X).fit()\n",
    "print(modelo.summary())"
   ]
  },
  {
   "cell_type": "code",
   "execution_count": 5,
   "metadata": {
    "scrolled": true
   },
   "outputs": [
    {
     "name": "stdout",
     "output_type": "stream",
     "text": [
      "                            OLS Regression Results                            \n",
      "==============================================================================\n",
      "Dep. Variable:          np.log(renda)   R-squared:                       0.242\n",
      "Model:                            OLS   Adj. R-squared:                  0.240\n",
      "Method:                 Least Squares   F-statistic:                     172.5\n",
      "Date:                Sat, 23 Aug 2025   Prob (F-statistic):               0.00\n",
      "Time:                        19:29:04   Log-Likelihood:                -13204.\n",
      "No. Observations:               12466   AIC:                         2.646e+04\n",
      "Df Residuals:                   12442   BIC:                         2.663e+04\n",
      "Df Model:                          23                                         \n",
      "Covariance Type:            nonrobust                                         \n",
      "=======================================================================================================\n",
      "                                          coef    std err          t      P>|t|      [0.025      0.975]\n",
      "-------------------------------------------------------------------------------------------------------\n",
      "Intercept                               7.2225      0.093     77.306      0.000       7.039       7.406\n",
      "C(sexo)[T.M]                            0.4813      0.014     33.675      0.000       0.453       0.509\n",
      "C(tipo_renda)[T.Bolsista]              -0.0493      0.350     -0.141      0.888      -0.735       0.636\n",
      "C(tipo_renda)[T.Empresário]             0.1785      0.015     12.211      0.000       0.150       0.207\n",
      "C(tipo_renda)[T.Pensionista]            0.3784      0.233      1.623      0.105      -0.079       0.835\n",
      "C(tipo_renda)[T.Servidor público]       0.0950      0.021      4.486      0.000       0.053       0.136\n",
      "C(educacao)[T.Pós graduação]            0.5502      0.175      3.137      0.002       0.206       0.894\n",
      "C(educacao)[T.Secundário]               0.0164      0.071      0.231      0.817      -0.123       0.156\n",
      "C(educacao)[T.Superior completo]        0.1132      0.071      1.587      0.112      -0.027       0.253\n",
      "C(educacao)[T.Superior incompleto]     -0.0097      0.076     -0.127      0.899      -0.159       0.140\n",
      "C(estado_civil)[T.Separado]            -0.0510      0.028     -1.844      0.065      -0.105       0.003\n",
      "C(estado_civil)[T.Solteiro]             0.0097      0.020      0.483      0.629      -0.030       0.049\n",
      "C(estado_civil)[T.União]               -0.0259      0.023     -1.111      0.266      -0.072       0.020\n",
      "C(estado_civil)[T.Viúvo]               -0.0495      0.041     -1.216      0.224      -0.129       0.030\n",
      "C(tipo_residencia)[T.Casa]              0.0148      0.053      0.278      0.781      -0.090       0.119\n",
      "C(tipo_residencia)[T.Com os pais]      -0.0572      0.060     -0.956      0.339      -0.174       0.060\n",
      "C(tipo_residencia)[T.Comunitário]       0.0575      0.103      0.559      0.576      -0.144       0.259\n",
      "C(tipo_residencia)[T.Estúdio]          -0.1094      0.089     -1.232      0.218      -0.283       0.065\n",
      "C(tipo_residencia)[T.Governamental]    -0.0563      0.064     -0.873      0.382      -0.183       0.070\n",
      "posse_de_veiculo[T.True]               -0.0012      0.014     -0.087      0.931      -0.028       0.026\n",
      "posse_de_imovel[T.True]                 0.0849      0.014      6.276      0.000       0.058       0.111\n",
      "qtd_filhos                              0.0160      0.008      1.921      0.055      -0.000       0.032\n",
      "idade                                   0.0052      0.001      6.628      0.000       0.004       0.007\n",
      "tempo_emprego                           0.0482      0.001     48.439      0.000       0.046       0.050\n",
      "==============================================================================\n",
      "Omnibus:                        1.154   Durbin-Watson:                   2.015\n",
      "Prob(Omnibus):                  0.561   Jarque-Bera (JB):                1.126\n",
      "Skew:                          -0.011   Prob(JB):                        0.570\n",
      "Kurtosis:                       3.041   Cond. No.                     2.38e+03\n",
      "==============================================================================\n",
      "\n",
      "Notes:\n",
      "[1] Standard Errors assume that the covariance matrix of the errors is correctly specified.\n",
      "[2] The condition number is large, 2.38e+03. This might indicate that there are\n",
      "strong multicollinearity or other numerical problems.\n"
     ]
    }
   ],
   "source": [
    "# 2.\n",
    "# removendo qt_pessoas_residência (P value = 0.955)\n",
    "formula = \"np.log(renda) ~ C(sexo) + C(tipo_renda) + C(educacao) + C(estado_civil) + C(tipo_residencia) + posse_de_veiculo + posse_de_imovel + qtd_filhos + idade + tempo_emprego\"\n",
    "\n",
    "y, X = dmatrices(formula, data=df, return_type=\"dataframe\")\n",
    "\n",
    "modelo = sm.OLS(y, X).fit()\n",
    "print(modelo.summary())"
   ]
  },
  {
   "cell_type": "markdown",
   "metadata": {},
   "source": [
    "--> Como mostra o summary, quase não houve diferença nos indicadores, o que nos leva a concluir que a variável 'qt_pessoas_residencia' de fato não é relevante."
   ]
  },
  {
   "cell_type": "code",
   "execution_count": 6,
   "metadata": {},
   "outputs": [
    {
     "name": "stdout",
     "output_type": "stream",
     "text": [
      "                            OLS Regression Results                            \n",
      "==============================================================================\n",
      "Dep. Variable:          np.log(renda)   R-squared:                       0.240\n",
      "Model:                            OLS   Adj. R-squared:                  0.240\n",
      "Method:                 Least Squares   F-statistic:                     328.5\n",
      "Date:                Sat, 23 Aug 2025   Prob (F-statistic):               0.00\n",
      "Time:                        19:29:04   Log-Likelihood:                -13215.\n",
      "No. Observations:               12466   AIC:                         2.646e+04\n",
      "Df Residuals:                   12453   BIC:                         2.655e+04\n",
      "Df Model:                          12                                         \n",
      "Covariance Type:            nonrobust                                         \n",
      "======================================================================================================\n",
      "                                         coef    std err          t      P>|t|      [0.025      0.975]\n",
      "------------------------------------------------------------------------------------------------------\n",
      "Intercept                              7.2288      0.076     95.409      0.000       7.080       7.377\n",
      "C(sexo)[T.M]                           0.4852      0.013     36.496      0.000       0.459       0.511\n",
      "C(tipo_renda)[T.Bolsista]             -0.0446      0.350     -0.127      0.899      -0.730       0.641\n",
      "C(tipo_renda)[T.Empresário]            0.1778      0.015     12.186      0.000       0.149       0.206\n",
      "C(tipo_renda)[T.Pensionista]           0.3880      0.233      1.664      0.096      -0.069       0.845\n",
      "C(tipo_renda)[T.Servidor público]      0.0941      0.021      4.455      0.000       0.053       0.135\n",
      "C(educacao)[T.Pós graduação]           0.5752      0.175      3.283      0.001       0.232       0.919\n",
      "C(educacao)[T.Secundário]              0.0274      0.071      0.387      0.699      -0.111       0.166\n",
      "C(educacao)[T.Superior completo]       0.1243      0.071      1.747      0.081      -0.015       0.264\n",
      "C(educacao)[T.Superior incompleto]     0.0009      0.076      0.012      0.990      -0.148       0.150\n",
      "posse_de_imovel[T.True]                0.0959      0.013      7.258      0.000       0.070       0.122\n",
      "idade                                  0.0048      0.001      6.602      0.000       0.003       0.006\n",
      "tempo_emprego                          0.0484      0.001     48.683      0.000       0.046       0.050\n",
      "==============================================================================\n",
      "Omnibus:                        0.894   Durbin-Watson:                   2.014\n",
      "Prob(Omnibus):                  0.640   Jarque-Bera (JB):                0.861\n",
      "Skew:                          -0.012   Prob(JB):                        0.650\n",
      "Kurtosis:                       3.033   Cond. No.                     2.38e+03\n",
      "==============================================================================\n",
      "\n",
      "Notes:\n",
      "[1] Standard Errors assume that the covariance matrix of the errors is correctly specified.\n",
      "[2] The condition number is large, 2.38e+03. This might indicate that there are\n",
      "strong multicollinearity or other numerical problems.\n"
     ]
    }
   ],
   "source": [
    "# 3.\n",
    "# removendo todas as variáveis com p-value maior que 0.05\n",
    "formula = \"np.log(renda) ~ C(sexo) + C(tipo_renda) + C(educacao) + posse_de_imovel + idade + tempo_emprego\"\n",
    "\n",
    "y, X = dmatrices(formula, data=df, return_type=\"dataframe\")\n",
    "\n",
    "modelo = sm.OLS(y, X).fit()\n",
    "print(modelo.summary())"
   ]
  },
  {
   "cell_type": "markdown",
   "metadata": {},
   "source": [
    "--> O R^2 caiu de 0.242 para 0.240, o que representa uma perda praticamente irrelevante na capacidade explicativa do modelo."
   ]
  },
  {
   "cell_type": "markdown",
   "metadata": {},
   "source": [
    "--> O AIC permaneceu inalterado após a remoção das variáveis insignificantes, enquanto o BIC, por sua vez, caiu de 2.38e+03 para 2.655e+04, mostrando que o modelo final explica praticamente a mesma variabilidade da renda com menos variáveis."
   ]
  }
 ],
 "metadata": {
  "kernelspec": {
   "display_name": "Python 3 (ipykernel)",
   "language": "python",
   "name": "python3"
  },
  "language_info": {
   "codemirror_mode": {
    "name": "ipython",
    "version": 3
   },
   "file_extension": ".py",
   "mimetype": "text/x-python",
   "name": "python",
   "nbconvert_exporter": "python",
   "pygments_lexer": "ipython3",
   "version": "3.13.5"
  }
 },
 "nbformat": 4,
 "nbformat_minor": 4
}
