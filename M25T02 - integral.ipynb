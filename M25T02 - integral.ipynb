{
 "cells": [
  {
   "cell_type": "markdown",
   "metadata": {},
   "source": [
    "# Cálculo - Tarefa 02\n",
    "\n",
    "1- Calcule de forma numérica a integral da função $x^3$ avaliada entre os pontos $1$ e $2$. Identifique o número de retângulos que você usou.  \n",
    "2- Calcule essa área de forma analítica."
   ]
  },
  {
   "cell_type": "code",
   "execution_count": 37,
   "metadata": {},
   "outputs": [],
   "source": [
    "import pandas as pd\n",
    "import numpy as np\n",
    "import matplotlib.pyplot as plt\n",
    "\n",
    "from matplotlib.animation import FuncAnimation, PillowWriter \n",
    "from IPython.display import HTML\n",
    "import warnings\n",
    "\n",
    "%matplotlib inline"
   ]
  },
  {
   "cell_type": "markdown",
   "metadata": {},
   "source": [
    "1. "
   ]
  },
  {
   "cell_type": "code",
   "execution_count": 48,
   "metadata": {},
   "outputs": [
    {
     "data": {
      "image/png": "[encoded data removed]",
      "text/plain": [
       "<Figure size 640x480 with 1 Axes>"
      ]
     },
     "metadata": {},
     "output_type": "display_data"
    }
   ],
   "source": [
    "f = lambda x: x**3\n",
    "\n",
    "def calcula_area(a, b, func, frame_num):\n",
    "    num_bins = frame_num+1\n",
    "    delta = (b-a)/num_bins\n",
    "    x_cols = np.linspace(a, b-delta, num_bins) + delta/2\n",
    "    y_cols = f(x_cols)\n",
    "    return sum(delta*y_cols)\n",
    "\n",
    "def animate(n, a=0, b=np.pi, func=f, verdadeiro_valor=2):\n",
    "    plt.clf()  # Limpa o gráfico\n",
    "    ax = plt.gca()  # Pega o eixo atual\n",
    "    ax.set_xlim(a, b)\n",
    "    ax.set_ylim(0, 1.2)\n",
    "    \n",
    "    # Plota a função\n",
    "    x = np.linspace(a, b, 100)\n",
    "    y = f(x)\n",
    "    ax.plot(x, y, '-')\n",
    "    \n",
    "    # Plota barras\n",
    "    num_bins = n+1\n",
    "    delta = (b-a)/num_bins\n",
    "    x_cols = np.linspace(a, b-delta, num_bins) + delta/2\n",
    "    y_cols = f(x_cols)\n",
    "    bar = ax.bar(x_cols, y_cols, alpha=.5, width=delta, edgecolor='blue', color='blue')\n",
    "    \n",
    "    soma_riemann = calcula_area(a, b, func, n)\n",
    "    erro = verdadeiro_valor - soma_riemann\n",
    "    ax.set_title(f'Soma de Riemann = {soma_riemann:.2f} erro = {erro:.4f}')\n",
    "    \n",
    "    ax.xaxis.set_major_formatter('{:.1f}'.format)\n",
    "    ax.yaxis.set_major_formatter('{:.1f}'.format)\n",
    "    plt.tight_layout()\n",
    "    return bar\n",
    "\n",
    "animate(20000)\n",
    "plt.show()"
   ]
  },
  {
   "cell_type": "markdown",
   "metadata": {},
   "source": [
    "2."
   ]
  },
  {
   "cell_type": "markdown",
   "metadata": {},
   "source": [
    "Para calcular a área exata sob a curva da função (f(x) = x^3) no intervalo de (x = 1) até (x = 2), precisamos resolver a integral definida:"
   ]
  },
  {
   "cell_type": "markdown",
   "metadata": {},
   "source": [
    "[ \\int_1^2 x^3 , dx ]"
   ]
  },
  {
   "cell_type": "markdown",
   "metadata": {},
   "source": [
    "Primeiro, podemos calcular a primitiva (antiderivada) da função (x^3):"
   ]
  },
  {
   "cell_type": "markdown",
   "metadata": {},
   "source": [
    "[ \\int x^3 , dx = \\frac{x^4}{4} + C ]"
   ]
  },
  {
   "cell_type": "markdown",
   "metadata": {},
   "source": [
    "Agora, aplicamos o Teorema Fundamental do Cálculo, substituindo os limites de integração:"
   ]
  },
  {
   "cell_type": "markdown",
   "metadata": {},
   "source": [
    "[ \\left.\\frac{x^4}{4}\\right|_1^2 = \\frac{2^4}{4} - \\frac{1^4}{4} = \\frac{16}{4} - \\frac{1}{4} = 4 - 0{,}25 = 3,75 ]"
   ]
  },
  {
   "cell_type": "markdown",
   "metadata": {},
   "source": [
    "Portanto, a área exata sob a curva, entre 1 e 2, é 3,75."
   ]
  }
 ],
 "metadata": {
  "kernelspec": {
   "display_name": "Python 3 (ipykernel)",
   "language": "python",
   "name": "python3"
  },
  "language_info": {
   "codemirror_mode": {
    "name": "ipython",
    "version": 3
   },
   "file_extension": ".py",
   "mimetype": "text/x-python",
   "name": "python",
   "nbconvert_exporter": "python",
   "pygments_lexer": "ipython3",
   "version": "3.13.5"
  },
  "toc": {
   "base_numbering": 1,
   "nav_menu": {},
   "number_sections": true,
   "sideBar": true,
   "skip_h1_title": true,
   "title_cell": "Índice",
   "title_sidebar": "Conteúdo",
   "toc_cell": false,
   "toc_position": {},
   "toc_section_display": true,
   "toc_window_display": false
  },
  "varInspector": {
   "cols": {
    "lenName": 16,
    "lenType": 16,
    "lenVar": 40
   },
   "kernels_config": {
    "python": {
     "delete_cmd_postfix": "",
     "delete_cmd_prefix": "del ",
     "library": "var_list.py",
     "varRefreshCmd": "print(var_dic_list())"
    },
    "r": {
     "delete_cmd_postfix": ") ",
     "delete_cmd_prefix": "rm(",
     "library": "var_list.r",
     "varRefreshCmd": "cat(var_dic_list()) "
    }
   },
   "types_to_exclude": [
    "module",
    "function",
    "builtin_function_or_method",
    "instance",
    "_Feature"
   ],
   "window_display": false
  }
 },
 "nbformat": 4,
 "nbformat_minor": 4
}
