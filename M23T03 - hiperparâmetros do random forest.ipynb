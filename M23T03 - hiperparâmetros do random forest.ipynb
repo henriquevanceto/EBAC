{
 "cells": [
  {
   "cell_type": "markdown",
   "id": "04014ec5-213a-4b6e-9a45-9fcd16157dff",
   "metadata": {},
   "source": [
    "# Módulo 23 Tarefa 3"
   ]
  },
  {
   "cell_type": "markdown",
   "id": "cb4bd34c-0e27-44bf-bdc4-d5ce2d7530ca",
   "metadata": {},
   "source": [
    "### 1. Quais são os hiperparâmetros do Random Forest?"
   ]
  },
  {
   "cell_type": "markdown",
   "id": "0c2a893a-765c-4a23-91fc-c66ba1952774",
   "metadata": {},
   "source": [
    "Os hiperparâmetros são: n_estimators, criterion, max_depth, min_samples_split, min_samples_leaf, min_weight_fraction_leaf, max_features, max_leaf_nodes, min_impurity_decrease, bootstrap, oob_score, n_jobs, random_state, verbose, warm_start, class_weight, ccp_alpha, max_samples e monotonic_cst."
   ]
  },
  {
   "cell_type": "markdown",
   "id": "0b58917e-691d-406c-9903-2fac912b82a5",
   "metadata": {},
   "source": [
    "### 2. Para que serve cada um deles?"
   ]
  },
  {
   "cell_type": "markdown",
   "id": "0a93fdd4-6dcf-4445-8090-c8e0514fe501",
   "metadata": {},
   "source": [
    "| **Parâmetro**              | **Função**                                                                                      |\n",
    "| -------------------------- | ----------------------------------------------------------------------------------------------- |\n",
    "| `n_estimators`             | Número de árvores na floresta. Mais árvores = melhor desempenho, mas mais custo computacional.  |\n",
    "| `criterion`                | Função de qualidade da divisão: `\"gini\"`, `\"entropy\"`, `\"log_loss\"`.                            |\n",
    "| `max_depth`                | Profundidade máxima da árvore (controla overfitting).                                           |\n",
    "| `min_samples_split`        | Número mínimo de amostras para dividir um nó.                                                   |\n",
    "| `min_samples_leaf`         | Número mínimo de amostras em uma folha (nó terminal).                                           |\n",
    "| `min_weight_fraction_leaf` | Versão ponderada do `min_samples_leaf`, útil em dados com pesos.                                |\n",
    "| `max_features`             | Número de variáveis a considerar em cada divisão (`\"sqrt\"`, `\"log2\"`, número fixo ou fração).   |\n",
    "| `max_leaf_nodes`           | Número máximo de folhas por árvore.                                                             |\n",
    "| `min_impurity_decrease`    | Só divide um nó se a redução da impureza for maior que esse valor.                              |\n",
    "| `bootstrap`                | Se `True`, usa *bootstrap sampling* (amostragem com reposição).                                 |\n",
    "| `oob_score`                | Se `True`, calcula desempenho com amostras fora do *bootstrap* (*out-of-bag*).                  |\n",
    "| `n_jobs`                   | Número de núcleos da CPU usados (`-1` usa todos).                                               |\n",
    "| `random_state`             | Define a semente aleatória para reprodutibilidade.                                              |\n",
    "| `verbose`                  | Controla os logs exibidos durante o treinamento.                                                |\n",
    "| `warm_start`               | Se `True`, adiciona mais árvores ao modelo já treinado.                                         |\n",
    "| `class_weight`             | Ajusta pesos das classes (útil para dados desbalanceados).                                      |\n",
    "| `ccp_alpha`                | Poda mínima de custo-complexidade (controla tamanho da árvore).                                 |\n",
    "| `max_samples`              | Se `bootstrap=True`, número de amostras sorteadas para cada árvore.                             |\n",
    "| `monotonic_cst`            | Impõe restrições de monotonicidade (previsão deve crescer/decrescer conforme certas variáveis). |\n"
   ]
  }
 ],
 "metadata": {
  "kernelspec": {
   "display_name": "Python 3 (ipykernel)",
   "language": "python",
   "name": "python3"
  },
  "language_info": {
   "codemirror_mode": {
    "name": "ipython",
    "version": 3
   },
   "file_extension": ".py",
   "mimetype": "text/x-python",
   "name": "python",
   "nbconvert_exporter": "python",
   "pygments_lexer": "ipython3",
   "version": "3.13.5"
  }
 },
 "nbformat": 4,
 "nbformat_minor": 5
}
