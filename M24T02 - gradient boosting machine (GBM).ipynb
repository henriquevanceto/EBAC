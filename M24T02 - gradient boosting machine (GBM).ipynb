{
 "cells": [
  {
   "cell_type": "markdown",
   "id": "2ee5e95c-8b70-4f1b-b8f1-b84d0ecc89af",
   "metadata": {},
   "source": [
    "# Módulo 24 Tarefa 2"
   ]
  },
  {
   "cell_type": "markdown",
   "id": "0287606e-a209-4e2e-9ea6-0ef54a5fe833",
   "metadata": {},
   "source": [
    "### 1. Cite 5 diferenças entre o AdaBoost e o GBM"
   ]
  },
  {
   "cell_type": "markdown",
   "id": "7db4e475-e8f7-4da2-af47-810f437707bd",
   "metadata": {},
   "source": [
    "- Como aprendem com os erros\n",
    "\n",
    "    - AdaBoost dá mais peso às amostras que o modelo errou.\n",
    "\n",
    "    - GBM tenta corrigir os erros ajustando o próximo modelo nos resíduos.\n",
    "\n",
    "- Função de perda\n",
    "\n",
    "    - AdaBoost usa basicamente uma perda exponencial.\n",
    "\n",
    "    - GBM pode usar várias funções de perda diferentes.\n",
    "\n",
    "- Outliers\n",
    "\n",
    "    - AdaBoost é mais sensível a valores muito fora da curva.\n",
    "\n",
    "    - GBM pode lidar melhor, dependendo da função escolhida.\n",
    "\n",
    "- Combinação dos modelos\n",
    "\n",
    "    - AdaBoost junta os modelos dando pesos maiores aos mais fortes.\n",
    "\n",
    "    - GBM vai somando os modelos, cada um corrigindo o anterior.\n",
    "\n",
    "- Parâmetros de controle\n",
    "\n",
    "    - AdaBoost tem menos opções de ajuste (mais simples).\n",
    "\n",
    "    - GBM tem mais parâmetros (como learning rate), o que dá mais flexibilidade."
   ]
  },
  {
   "cell_type": "markdown",
   "id": "3c7d993a-e28a-4132-9bea-cff894947e72",
   "metadata": {},
   "source": [
    "### 2. Exemplo de classificação e regressão do GBM"
   ]
  },
  {
   "cell_type": "code",
   "execution_count": 2,
   "id": "1511615b-f29b-4d30-b690-d98a7dfc419e",
   "metadata": {},
   "outputs": [
    {
     "name": "stdout",
     "output_type": "stream",
     "text": [
      "Acurácia (classificação): 0.8733333333333333\n"
     ]
    }
   ],
   "source": [
    "#Exemplo de classificação\n",
    "\n",
    "from sklearn.datasets import make_classification\n",
    "from sklearn.model_selection import train_test_split\n",
    "from sklearn.ensemble import GradientBoostingClassifier\n",
    "from sklearn.metrics import accuracy_score\n",
    "\n",
    "# Criando um dataset de exemplo (2 classes: spam / não spam)\n",
    "X, y = make_classification(n_samples=1000, n_features=10, random_state=42)\n",
    "\n",
    "# Separando treino e teste\n",
    "X_train, X_test, y_train, y_test = train_test_split(X, y, test_size=0.3, random_state=42)\n",
    "\n",
    "# Criando e treinando o modelo\n",
    "clf = GradientBoostingClassifier(n_estimators=100, learning_rate=0.1, max_depth=3, random_state=42)\n",
    "clf.fit(X_train, y_train)\n",
    "\n",
    "# Avaliando\n",
    "y_pred = clf.predict(X_test)\n",
    "print(\"Acurácia (classificação):\", accuracy_score(y_test, y_pred))"
   ]
  },
  {
   "cell_type": "code",
   "execution_count": 3,
   "id": "414e054a-518e-48c0-b710-e0edd079e9da",
   "metadata": {},
   "outputs": [
    {
     "name": "stdout",
     "output_type": "stream",
     "text": [
      "RMSE (regressão): 37.163035381549705\n"
     ]
    }
   ],
   "source": [
    "# Exemplo de regressão\n",
    "\n",
    "from sklearn.datasets import make_regression\n",
    "from sklearn.ensemble import GradientBoostingRegressor\n",
    "from sklearn.model_selection import train_test_split\n",
    "from sklearn.metrics import mean_squared_error\n",
    "import numpy as np\n",
    "\n",
    "# Criando um dataset de regressão (preços fictícios)\n",
    "X, y = make_regression(n_samples=1000, n_features=10, noise=10, random_state=42)\n",
    "\n",
    "# Separando treino e teste\n",
    "X_train, X_test, y_train, y_test = train_test_split(X, y, test_size=0.3, random_state=42)\n",
    "\n",
    "# Criando e treinando o modelo\n",
    "reg = GradientBoostingRegressor(n_estimators=100, learning_rate=0.1, max_depth=3, random_state=42)\n",
    "reg.fit(X_train, y_train)\n",
    "\n",
    "# Avaliando\n",
    "y_pred = reg.predict(X_test)\n",
    "rmse = np.sqrt(mean_squared_error(y_test, y_pred))\n",
    "print(\"RMSE (regressão):\", rmse)"
   ]
  },
  {
   "cell_type": "markdown",
   "id": "f229560b-57c8-4213-80c0-20342e0ce4da",
   "metadata": {},
   "source": [
    "### 3. Cite os 5 hyperparâmetros mais importantes do GBM"
   ]
  },
  {
   "cell_type": "markdown",
   "id": "e0e3cb22-03ab-41fb-b1fd-41ed271f6a33",
   "metadata": {},
   "source": [
    "- n_estimators\n",
    "\n",
    "    - Número de árvores que o modelo vai treinar (iterações do boosting).\n",
    "\n",
    "    - Mais árvores → mais aprendizado, mas também mais risco de overfitting.\n",
    "\n",
    "- learning_rate\n",
    "\n",
    "    - Taxa de aprendizado, controla o quanto cada nova árvore corrige os erros da anterior.\n",
    "\n",
    "    - Valores menores (ex.: 0.05, 0.1) deixam o modelo mais estável, mas exigem mais árvores.\n",
    "\n",
    "- max_depth\n",
    "\n",
    "    - Profundidade máxima das árvores.\n",
    "\n",
    "    - Árvores rasas (ex.: 3 a 5 níveis) ajudam a evitar overfitting.\n",
    "\n",
    "- subsample\n",
    "\n",
    "    - Fração de amostras usadas em cada iteração.\n",
    "\n",
    "    - Valores menores que 1.0 (ex.: 0.8) introduzem aleatoriedade, ajudando a evitar overfitting.\n",
    "\n",
    "- min_samples_split / min_samples_leaf\n",
    "\n",
    "    - Número mínimo de amostras para dividir um nó (split) ou para estar em uma folha (leaf).\n",
    "\n",
    "    - Controlam a complexidade da árvore e ajudam a regularizar."
   ]
  },
  {
   "cell_type": "markdown",
   "id": "e32710ba-005a-4814-89c9-9fec0049d53b",
   "metadata": {},
   "source": [
    "### 4. Acessando o artigo do Jerome Friedman (Stochastic) e pensando no nome dado ao Stochastic GBM, qual é a maior diferença entre os dois algoritmos?"
   ]
  },
  {
   "cell_type": "markdown",
   "id": "88d619db-56d5-4e88-81b6-3dd1e853fe26",
   "metadata": {},
   "source": [
    "A diferença principal é que o GBM tradicional usa, em cada iteração, todo o conjunto de dados para treinar a próxima árvore. Já o Stochastic GBM, em cada iteração, usa apenas uma amostra aleatória (subsample) dos dados. Isso traz duas vantagens: menos overfitting, porque introduz aleatoriedade, e treino mais rápido, pois trabalha com subconjuntos menores em cada passo."
   ]
  }
 ],
 "metadata": {
  "kernelspec": {
   "display_name": "Python 3 (ipykernel)",
   "language": "python",
   "name": "python3"
  },
  "language_info": {
   "codemirror_mode": {
    "name": "ipython",
    "version": 3
   },
   "file_extension": ".py",
   "mimetype": "text/x-python",
   "name": "python",
   "nbconvert_exporter": "python",
   "pygments_lexer": "ipython3",
   "version": "3.13.5"
  }
 },
 "nbformat": 4,
 "nbformat_minor": 5
}
