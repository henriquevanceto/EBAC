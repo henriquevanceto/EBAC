{
 "cells": [
  {
   "cell_type": "markdown",
   "metadata": {},
   "source": [
    "# Tarefa 01\n",
    "\n",
    "- Leia os enunciados com atenção\n",
    "- Saiba que pode haver mais de uma resposta correta\n",
    "- Insira novas células de código sempre que achar necessário\n",
    "- Em caso de dúvidas, procure os tutores\n",
    "- Divirta-se :)\n",
    "\n",
    "#### 1)  crie uma série do pandas a partir de uma lista com os dados abaixo:\n",
    "\n",
    "Em um estudo sobre alteração na tempreatura global, A NASA disponibiliza dados de diferenças de de temperatura média da superfície terrestre relativos às médias de temperatura entre 1951 e 1980. Os dados originais podem ser vistos no site da NASA/GISS, e estão dispostos a cada década na tabela abaixo.\n",
    "\n",
    "|ano|anomalia termica|\n",
    "|:-:|:----:|\n",
    "| 1900 | -0.08 |\n",
    "| 1920 | -0.27 |\n",
    "| 1940 | 0.12 |\n",
    "| 1960 | -0.03 |\n",
    "| 1980 | 0.26 |\n",
    "| 2000 | 0.40 |\n",
    "| 2020 | 1.02 |\n",
    "\n",
    "Crie uma séries do Pandas a partir de uma lista com esses dados."
   ]
  },
  {
   "cell_type": "code",
   "execution_count": 4,
   "metadata": {},
   "outputs": [
    {
     "name": "stdout",
     "output_type": "stream",
     "text": [
      "0   -0.08\n",
      "1   -0.27\n",
      "2    0.12\n",
      "3   -0.03\n",
      "4    0.26\n",
      "5    0.40\n",
      "6    1.02\n",
      "dtype: float64\n"
     ]
    }
   ],
   "source": [
    "import pandas as pd\n",
    "import numpy as np\n",
    "\n",
    "# Seu código aqui\n",
    "ano = [1900, 1920, 1940, 1960, 1980, 2000, 2020]\n",
    "anomalia_termica = [-0.08, -0.27, 0.12, -0.03, 0.26, 0.40, 1.02]\n",
    "\n",
    "anomalia_termica = pd.Series(anomalia_termica)\n",
    "print(anomalia_termica)\n"
   ]
  },
  {
   "cell_type": "markdown",
   "metadata": {},
   "source": [
    "#### 2) Coloque os anos nos índices conforme a tabela."
   ]
  },
  {
   "cell_type": "code",
   "execution_count": 7,
   "metadata": {},
   "outputs": [
    {
     "name": "stdout",
     "output_type": "stream",
     "text": [
      "1900   -0.08\n",
      "1920   -0.27\n",
      "1940    0.12\n",
      "1960   -0.03\n",
      "1980    0.26\n",
      "2000    0.40\n",
      "2020    1.02\n",
      "dtype: float64\n"
     ]
    }
   ],
   "source": [
    "# seu código aqui\n",
    "anomalia_termica_com_indice = pd.Series([-0.08, -0.27, 0.12, -0.03, 0.26, 0.40, 1.02], ano)\n",
    "print(anomalia_termica_com_indice)\n"
   ]
  },
  {
   "cell_type": "markdown",
   "metadata": {},
   "source": [
    "#### 3) A partir do dicionário abaixo, crie uma séries do Pandas:"
   ]
  },
  {
   "cell_type": "code",
   "execution_count": 9,
   "metadata": {},
   "outputs": [
    {
     "name": "stdout",
     "output_type": "stream",
     "text": [
      "1900   -0.08\n",
      "1920   -0.27\n",
      "1940    0.12\n",
      "1960   -0.03\n",
      "1980    0.26\n",
      "2000    0.40\n",
      "2020    1.02\n",
      "dtype: float64\n"
     ]
    }
   ],
   "source": [
    "dic_temperaturas = {1900: -.08, 1920: -.27, 1940: .12, 1960: -.03, 1980: .26, 2000: .40, 2020: 1.02}\n",
    "\n",
    "# seu código aqui\n",
    "dic_temperaturas_Series = pd.Series(dic_temperaturas)\n",
    "print(dic_temperaturas_Series)"
   ]
  },
  {
   "cell_type": "markdown",
   "metadata": {},
   "source": [
    "#### 4) Transforme o ndarray abaixo em um dataframe. \n",
    "O numpy é capaz de gerar arrays n-dimensionais com números pseudo-aleatórios de acordo com uma variedade de distribuições, como no exemplo abaixo. Transforme esse nd-array em um DataFrame."
   ]
  },
  {
   "cell_type": "code",
   "execution_count": 16,
   "metadata": {},
   "outputs": [
    {
     "name": "stdout",
     "output_type": "stream",
     "text": [
      "             0           1           2\n",
      "0    86.749192   97.892355  105.574383\n",
      "1   123.289315  106.707489  101.763142\n",
      "2   106.963377   90.732869   80.481599\n",
      "3    94.768913   95.215024   98.089657\n",
      "4   102.673164  103.132048   79.799550\n",
      "5    79.534288  107.594261   95.528641\n",
      "6   100.823046  103.188010   89.040893\n",
      "7   110.791579  107.436206  106.989100\n",
      "8    96.393206  104.160371   90.477124\n",
      "9    81.632626   89.230355  106.579754\n",
      "10  105.820651  121.719013  102.715819\n",
      "11   92.949171   89.124083   99.918655\n",
      "12   96.947267  115.497773   97.527026\n",
      "13   84.372463  108.869484  104.732336\n",
      "14  106.817820  102.478784   86.379684\n",
      "15  105.406898   93.906053   98.684863\n",
      "16   86.802935  105.075285   95.965054\n",
      "17  107.543859  113.732322  109.496384\n",
      "18   99.985001  102.092775  105.289765\n",
      "19   92.853310   75.330098  103.415333\n"
     ]
    }
   ],
   "source": [
    "arr = np.random.normal(100, 10, (20,3))\n",
    "\n",
    "# seu código aqui\n",
    "df = pd.DataFrame(arr)\n",
    "print(df)"
   ]
  },
  {
   "cell_type": "markdown",
   "metadata": {},
   "source": [
    "#### 5) Nomeie os índices das linhas com inteiros de 1 a 20, e as colunas com os nomes \"x1\", \"x2\", e \"x3\" respectivamente."
   ]
  },
  {
   "cell_type": "code",
   "execution_count": 23,
   "metadata": {},
   "outputs": [
    {
     "name": "stdout",
     "output_type": "stream",
     "text": [
      "            x1          x2          x3\n",
      "1    86.749192   97.892355  105.574383\n",
      "2   123.289315  106.707489  101.763142\n",
      "3   106.963377   90.732869   80.481599\n",
      "4    94.768913   95.215024   98.089657\n",
      "5   102.673164  103.132048   79.799550\n",
      "6    79.534288  107.594261   95.528641\n",
      "7   100.823046  103.188010   89.040893\n",
      "8   110.791579  107.436206  106.989100\n",
      "9    96.393206  104.160371   90.477124\n",
      "10   81.632626   89.230355  106.579754\n",
      "11  105.820651  121.719013  102.715819\n",
      "12   92.949171   89.124083   99.918655\n",
      "13   96.947267  115.497773   97.527026\n",
      "14   84.372463  108.869484  104.732336\n",
      "15  106.817820  102.478784   86.379684\n",
      "16  105.406898   93.906053   98.684863\n",
      "17   86.802935  105.075285   95.965054\n",
      "18  107.543859  113.732322  109.496384\n",
      "19   99.985001  102.092775  105.289765\n",
      "20   92.853310   75.330098  103.415333\n"
     ]
    }
   ],
   "source": [
    "#seu código aqui\n",
    "df = pd.DataFrame(arr,\n",
    "                  index=range(1,21),\n",
    "                  columns=('x1', 'x2', 'x3')\n",
    "                 )\n",
    "\n",
    "print(df)"
   ]
  },
  {
   "cell_type": "markdown",
   "metadata": {},
   "source": [
    "#### 6) No DataFrame do exercício 5, crie uma nova coluna como sendo a média das três colunas, e dê a ela o nome de \"media\" (não recomendo colocar acentos em nomes de variáveis)."
   ]
  },
  {
   "cell_type": "code",
   "execution_count": 25,
   "metadata": {},
   "outputs": [
    {
     "name": "stdout",
     "output_type": "stream",
     "text": [
      "            x1          x2          x3       media\n",
      "1    86.749192   97.892355  105.574383   96.738643\n",
      "2   123.289315  106.707489  101.763142  110.586649\n",
      "3   106.963377   90.732869   80.481599   92.725948\n",
      "4    94.768913   95.215024   98.089657   96.024531\n",
      "5   102.673164  103.132048   79.799550   95.201587\n",
      "6    79.534288  107.594261   95.528641   94.219063\n",
      "7   100.823046  103.188010   89.040893   97.683983\n",
      "8   110.791579  107.436206  106.989100  108.405629\n",
      "9    96.393206  104.160371   90.477124   97.010234\n",
      "10   81.632626   89.230355  106.579754   92.480912\n",
      "11  105.820651  121.719013  102.715819  110.085161\n",
      "12   92.949171   89.124083   99.918655   93.997303\n",
      "13   96.947267  115.497773   97.527026  103.324022\n",
      "14   84.372463  108.869484  104.732336   99.324761\n",
      "15  106.817820  102.478784   86.379684   98.558763\n",
      "16  105.406898   93.906053   98.684863   99.332605\n",
      "17   86.802935  105.075285   95.965054   95.947758\n",
      "18  107.543859  113.732322  109.496384  110.257521\n",
      "19   99.985001  102.092775  105.289765  102.455847\n",
      "20   92.853310   75.330098  103.415333   90.532914\n"
     ]
    }
   ],
   "source": [
    "# seu código aqui\n",
    "df['media'] = (df['x1'] + df['x2'] + df['x3']) / 3\n",
    "print(df)"
   ]
  },
  {
   "cell_type": "markdown",
   "metadata": {},
   "source": [
    "#### 7) No DataFrame do exercício 6, crie uma nova coluna chamada \"log_med\", contendo o logaritmo natural da média calculada no exercício 6 <br>"
   ]
  },
  {
   "cell_type": "code",
   "execution_count": 26,
   "metadata": {},
   "outputs": [
    {
     "name": "stdout",
     "output_type": "stream",
     "text": [
      "            x1          x2          x3       media   log_med\n",
      "1    86.749192   97.892355  105.574383   96.738643  4.572013\n",
      "2   123.289315  106.707489  101.763142  110.586649  4.705799\n",
      "3   106.963377   90.732869   80.481599   92.725948  4.529648\n",
      "4    94.768913   95.215024   98.089657   96.024531  4.564604\n",
      "5   102.673164  103.132048   79.799550   95.201587  4.555997\n",
      "6    79.534288  107.594261   95.528641   94.219063  4.545623\n",
      "7   100.823046  103.188010   89.040893   97.683983  4.581738\n",
      "8   110.791579  107.436206  106.989100  108.405629  4.685880\n",
      "9    96.393206  104.160371   90.477124   97.010234  4.574816\n",
      "10   81.632626   89.230355  106.579754   92.480912  4.527002\n",
      "11  105.820651  121.719013  102.715819  110.085161  4.701254\n",
      "12   92.949171   89.124083   99.918655   93.997303  4.543266\n",
      "13   96.947267  115.497773   97.527026  103.324022  4.637870\n",
      "14   84.372463  108.869484  104.732336   99.324761  4.598395\n",
      "15  106.817820  102.478784   86.379684   98.558763  4.590653\n",
      "16  105.406898   93.906053   98.684863   99.332605  4.598474\n",
      "17   86.802935  105.075285   95.965054   95.947758  4.563804\n",
      "18  107.543859  113.732322  109.496384  110.257521  4.702819\n",
      "19   99.985001  102.092775  105.289765  102.455847  4.629432\n",
      "20   92.853310   75.330098  103.415333   90.532914  4.505713\n"
     ]
    }
   ],
   "source": [
    "# seu código aqui\n",
    "df['log_med'] = np.log(df['media'])\n",
    "print(df)"
   ]
  },
  {
   "cell_type": "code",
   "execution_count": null,
   "metadata": {},
   "outputs": [],
   "source": []
  }
 ],
 "metadata": {
  "kernelspec": {
   "display_name": "Python 3 (ipykernel)",
   "language": "python",
   "name": "python3"
  },
  "language_info": {
   "codemirror_mode": {
    "name": "ipython",
    "version": 3
   },
   "file_extension": ".py",
   "mimetype": "text/x-python",
   "name": "python",
   "nbconvert_exporter": "python",
   "pygments_lexer": "ipython3",
   "version": "3.13.5"
  }
 },
 "nbformat": 4,
 "nbformat_minor": 4
}
