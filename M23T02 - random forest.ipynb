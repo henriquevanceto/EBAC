{
 "cells": [
  {
   "cell_type": "markdown",
   "id": "86bb240b-819a-4d0a-af3a-f4382aa29af2",
   "metadata": {},
   "source": [
    "# Módulo 23 Tarefa 2"
   ]
  },
  {
   "cell_type": "markdown",
   "id": "5a11ffa5-4468-4a6a-a556-1adde8adcd83",
   "metadata": {},
   "source": [
    "### 1. Monte um passo a passo para o algoritmo Random Forest"
   ]
  },
  {
   "cell_type": "markdown",
   "id": "72979211-4209-4227-aa5c-8340251158d1",
   "metadata": {},
   "source": [
    "- Define-se um conjunto de dados inicial.\n",
    "- Cria-se várias amostras com reposição, ou seja, com repetição de dados (bootstrap).\n",
    "- Para cada amostra será construída uma árvore de decisão.\n",
    "- Treina-se todas as árvores em paralelo (independentes entre si).\n",
    "- Para classificação, a predição final é a votação da maioria dos modelos. Já para regressão, a predição final é a média das saídas dos modelos."
   ]
  },
  {
   "cell_type": "markdown",
   "id": "6d466ee0-3c32-4f32-b2dd-2b6d4978b550",
   "metadata": {},
   "source": [
    "<div style=\"text-align: center;\">\n",
    "  <img src=\"Random-Forest-1500x800-v3.png\" width=\"800\">\n",
    "</div>"
   ]
  },
  {
   "cell_type": "markdown",
   "id": "798ba223-cf32-4c9b-9dfb-787849fd45a2",
   "metadata": {},
   "source": [
    "### 2. Explique com suas palavras o Random Forest"
   ]
  },
  {
   "cell_type": "markdown",
   "id": "b9592c88-4e1f-4eaf-b374-ca4fcdfcf659",
   "metadata": {},
   "source": [
    "O Random Forest é um conjunto de várias árvores de decisão, treinadas em diferentes pedaços dos dados e usando diferentes variáveis. Ele combina o resultado dessas árvores para chegar em uma resposta final. A ideia é que, em vez de confiar em uma única árvore (que pode errar bastante), usamos várias árvores para “votar” e reduzir erros, tornando o modelo mais preciso."
   ]
  },
  {
   "cell_type": "markdown",
   "id": "ee736437-99ba-444c-8b80-0e4d82a411ed",
   "metadata": {},
   "source": [
    "### 3. Qual a diferença entre bagging e Random Forest?"
   ]
  },
  {
   "cell_type": "markdown",
   "id": "bb5d28f8-5968-49e7-a87c-03925b08479b",
   "metadata": {},
   "source": [
    "Bagging é uma técnica genérica que treina vários modelos (normalmente árvores de decisão) usando diferentes amostras bootstrap e depois agrega os resultados. Já o Random Forest é uma forma especial de bagging, mas com um passo a mais: além do bootstrap, cada árvore só considera um subconjunto aleatório de variáveis em cada divisão. Isso deixa as árvores menos correlacionadas e melhora a performance."
   ]
  },
  {
   "cell_type": "markdown",
   "id": "cd24d5a9-656b-4373-9759-ec754065590a",
   "metadata": {},
   "source": [
    "### 4. Como implementar em python o Random Forest?"
   ]
  },
  {
   "cell_type": "markdown",
   "id": "47bfb0b5-745b-4f8f-91dc-ef839fb1d387",
   "metadata": {},
   "source": [
    "- Importe as bibliotecas"
   ]
  },
  {
   "cell_type": "code",
   "execution_count": null,
   "id": "e391fe82-3eb3-4b9a-a2d8-396e364c6dd2",
   "metadata": {},
   "outputs": [],
   "source": [
    "import pandas as pd\n",
    "from sklearn.model_selection import train_test_split\n",
    "from sklearn.ensemble import RandomForestClassifier\n",
    "from sklearn.metrics import accuracy_score, classification_report"
   ]
  },
  {
   "cell_type": "markdown",
   "id": "5b6e0e65-b494-4149-8b1c-00567da8dcc3",
   "metadata": {},
   "source": [
    "- Carregue e prepare os dados"
   ]
  },
  {
   "cell_type": "code",
   "execution_count": null,
   "id": "cb0b61e0-6435-4932-960c-5448e4558bd4",
   "metadata": {},
   "outputs": [],
   "source": [
    "data = pd.read_csv('seus_dados.csv')\n",
    "X = data.drop('target', axis=1)  # Substitua 'target' pelo nome da variável resposta\n",
    "y = data['target']"
   ]
  },
  {
   "cell_type": "markdown",
   "id": "f15f3533-2eca-4b61-b518-eba00d0c477e",
   "metadata": {},
   "source": [
    "- Divida os dados em treino e teste"
   ]
  },
  {
   "cell_type": "code",
   "execution_count": null,
   "id": "ed508f8e-9d28-4320-bc3d-f09a72e6164b",
   "metadata": {},
   "outputs": [],
   "source": [
    "X_train, X_test, y_train, y_test = train_test_split(X, y, test_size=0.3, random_state=42)"
   ]
  },
  {
   "cell_type": "markdown",
   "id": "e17868d0-7122-45aa-bbd8-b3c20a40a36e",
   "metadata": {},
   "source": [
    "- Crie o modelo"
   ]
  },
  {
   "cell_type": "code",
   "execution_count": null,
   "id": "ae6c2ad0-eeb4-4a3e-90e6-d8f44c8e418b",
   "metadata": {},
   "outputs": [],
   "source": [
    "model = RandomForestClassifier(n_estimators=100, random_state=42)"
   ]
  },
  {
   "cell_type": "markdown",
   "id": "66e47a65-5b1f-43ff-9971-992858eb4ef5",
   "metadata": {},
   "source": [
    "- Treine o modelo"
   ]
  },
  {
   "cell_type": "code",
   "execution_count": null,
   "id": "ad385311-00f2-402d-8303-39f59753d040",
   "metadata": {},
   "outputs": [],
   "source": [
    "model.fit(X_train, y_train)"
   ]
  },
  {
   "cell_type": "markdown",
   "id": "7fd4d950-4dde-474b-9fcf-d8d9f0c63603",
   "metadata": {},
   "source": [
    "- Faça previsões"
   ]
  },
  {
   "cell_type": "code",
   "execution_count": null,
   "id": "fd96e25b-b971-44fa-928c-87ad972bb960",
   "metadata": {},
   "outputs": [],
   "source": [
    "y_pred = model.predict(X_test)"
   ]
  },
  {
   "cell_type": "markdown",
   "id": "add70a5a-3155-441f-aeca-56c26f24aba1",
   "metadata": {},
   "source": [
    "- Avalie o desempenho"
   ]
  },
  {
   "cell_type": "code",
   "execution_count": null,
   "id": "8bf08a49-3bec-447f-999f-23583f012007",
   "metadata": {},
   "outputs": [],
   "source": [
    "print(\"Acurácia:\", accuracy_score(y_test, y_pred))\n",
    "print(classification_report(y_test, y_pred))"
   ]
  }
 ],
 "metadata": {
  "kernelspec": {
   "display_name": "Python 3 (ipykernel)",
   "language": "python",
   "name": "python3"
  },
  "language_info": {
   "codemirror_mode": {
    "name": "ipython",
    "version": 3
   },
   "file_extension": ".py",
   "mimetype": "text/x-python",
   "name": "python",
   "nbconvert_exporter": "python",
   "pygments_lexer": "ipython3",
   "version": "3.13.5"
  }
 },
 "nbformat": 4,
 "nbformat_minor": 5
}
