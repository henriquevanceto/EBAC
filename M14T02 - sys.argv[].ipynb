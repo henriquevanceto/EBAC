{
 "cells": [
  {
   "cell_type": "code",
   "execution_count": null,
   "id": "979c3c53-855a-434e-8840-2b89fd4461e3",
   "metadata": {},
   "outputs": [],
   "source": []
  },
  {
   "cell_type": "code",
   "execution_count": null,
   "id": "bd15df5a-0960-4132-b7fd-fa1d709a819d",
   "metadata": {},
   "outputs": [],
   "source": [
    "import numpy as np\n",
    "import pandas as pd\n",
    "import seaborn as sns\n",
    "import matplotlib.pyplot as plt\n",
    "import os\n",
    "import sys\n",
    "\n",
    "sns.set_theme()  \n",
    "\n",
    "def plota_pivot_table(df, value, index, func, ylabel, xlabel, opcao='nada'):\n",
    "    if opcao == 'nada':\n",
    "        pd.pivot_table(df, values=value, index=index,\n",
    "                       aggfunc=func).plot(figsize=[15, 5])\n",
    "    elif opcao == 'sort':\n",
    "        pd.pivot_table(df, values=value, index=index,\n",
    "                       aggfunc=func).sort_values(value).plot(figsize=[15, 5])\n",
    "    elif opcao == 'unstack':\n",
    "        pd.pivot_table(df, values=value, index=index,\n",
    "                       aggfunc=func).unstack().plot(figsize=[15, 5])\n",
    "    plt.ylabel(ylabel)\n",
    "    plt.xlabel(xlabel)\n",
    "    return None\n",
    "\n",
    "print('O nome do nosso script é: ', sys.argv[0])\n",
    "\n",
    "mes = sys.argv[1]\n",
    "print('O mês de referência é: ', mes)\n",
    "\n",
    "sinasc = pd.read_csv('./input/SINASC_RO_2019_'+mes+'.csv')\n",
    "print(sinasc.DTNASC.min(), sinasc.DTNASC.max())\n",
    "\n",
    "max_data = sinasc.DTNASC.max()[:7]\n",
    "print(max_data)\n",
    "\n",
    "os.makedirs('./output/figs/'+max_data, exist_ok=True)\n",
    "\n",
    "plota_pivot_table(sinasc, 'IDADEMAE', 'DTNASC', 'count', 'quantidade de nascimento','data de nascimento')\n",
    "plt.savefig('./output/figs/'+max_data+'/número de nascimentos por data.png')\n",
    "\n",
    "plota_pivot_table(sinasc, 'IDADEMAE', ['DTNASC', 'SEXO'], 'mean', 'media idade mae','data de nascimento','unstack')\n",
    "plt.savefig('./output/figs/'+max_data+'/media idade mae por sexo.png')\n",
    "\n",
    "plota_pivot_table(sinasc, 'PESO', ['DTNASC', 'SEXO'], 'mean', 'media peso bebe','data de nascimento','unstack')\n",
    "plt.savefig('./output/figs/'+max_data+'/media peso do bebe por sexo.png')\n",
    "\n",
    "plota_pivot_table(sinasc, 'PESO', 'ESCMAE', 'median', 'apgar1 medio','gestacao','sort')\n",
    "plt.savefig('./output/figs/'+max_data+'/mediana apgar1 por gestacao.png')\n",
    "\n",
    "plota_pivot_table(sinasc, 'APGAR1', 'GESTACAO', 'mean', 'apgar1 medio','gestacao','sort')\n",
    "plt.savefig('./output/figs/'+max_data+'/media apgar 1 por gestacao.png')\n",
    "\n",
    "plota_pivot_table(sinasc, 'APGAR5', 'GESTACAO', 'mean', 'apgar5 medio','gestacao','sort')\n",
    "plt.savefig('./output/figs/'+max_data+'/media apgar5 por gestacao.png')"
   ]
  }
 ],
 "metadata": {
  "kernelspec": {
   "display_name": "Python [conda env:base] *",
   "language": "python",
   "name": "conda-base-py"
  },
  "language_info": {
   "codemirror_mode": {
    "name": "ipython",
    "version": 3
   },
   "file_extension": ".py",
   "mimetype": "text/x-python",
   "name": "python",
   "nbconvert_exporter": "python",
   "pygments_lexer": "ipython3",
   "version": "3.13.5"
  }
 },
 "nbformat": 4,
 "nbformat_minor": 5
}
