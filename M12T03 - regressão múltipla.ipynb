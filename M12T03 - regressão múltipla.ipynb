{
 "cells": [
  {
   "cell_type": "markdown",
   "metadata": {},
   "source": [
    "# Regressão 01 - tarefa 03 - transformações em X e Y"
   ]
  },
  {
   "cell_type": "markdown",
   "metadata": {},
   "source": [
    "Carregue os pacotes necessários e a base de gorjetas.\n",
    "\n",
    "### I. Modelo no valor da gorjeta\n",
    "\n",
    "1. Crie a matriz de design (e a matriz y) utilizando o Patsy, para um modelo em ```tip```, explicada por ```sex, smoker, diner e net_bill```.  \n",
    "2. Remova as variáveis não significantes.  \n",
    "3. observe o gráfico de resíduos em função de ```net_bill```  \n",
    "4. teste transformar ```net_bill``` no log e um polinômio. Escolha o melhor modelo."
   ]
  },
  {
   "cell_type": "code",
   "execution_count": 3,
   "metadata": {},
   "outputs": [],
   "source": [
    "import pandas as pd\n",
    "import seaborn as sns\n",
    "from seaborn import load_dataset\n",
    "import matplotlib.pyplot as plt\n",
    "import seaborn as sns\n",
    "import numpy as np\n",
    "\n",
    "import patsy\n",
    "import statsmodels.api as sm\n",
    "import statsmodels.formula.api as smf\n",
    "\n",
    "%matplotlib inline"
   ]
  },
  {
   "cell_type": "code",
   "execution_count": 4,
   "metadata": {
    "scrolled": true
   },
   "outputs": [
    {
     "data": {
      "text/html": [
       "<div>\n",
       "<style scoped>\n",
       "    .dataframe tbody tr th:only-of-type {\n",
       "        vertical-align: middle;\n",
       "    }\n",
       "\n",
       "    .dataframe tbody tr th {\n",
       "        vertical-align: top;\n",
       "    }\n",
       "\n",
       "    .dataframe thead th {\n",
       "        text-align: right;\n",
       "    }\n",
       "</style>\n",
       "<table border=\"1\" class=\"dataframe\">\n",
       "  <thead>\n",
       "    <tr style=\"text-align: right;\">\n",
       "      <th></th>\n",
       "      <th>total_bill</th>\n",
       "      <th>tip</th>\n",
       "      <th>sex</th>\n",
       "      <th>smoker</th>\n",
       "      <th>day</th>\n",
       "      <th>time</th>\n",
       "      <th>size</th>\n",
       "      <th>tip_pct</th>\n",
       "      <th>net_bill</th>\n",
       "    </tr>\n",
       "  </thead>\n",
       "  <tbody>\n",
       "    <tr>\n",
       "      <th>0</th>\n",
       "      <td>16.99</td>\n",
       "      <td>1.01</td>\n",
       "      <td>Female</td>\n",
       "      <td>No</td>\n",
       "      <td>Sun</td>\n",
       "      <td>Dinner</td>\n",
       "      <td>2</td>\n",
       "      <td>0.063204</td>\n",
       "      <td>15.98</td>\n",
       "    </tr>\n",
       "    <tr>\n",
       "      <th>1</th>\n",
       "      <td>10.34</td>\n",
       "      <td>1.66</td>\n",
       "      <td>Male</td>\n",
       "      <td>No</td>\n",
       "      <td>Sun</td>\n",
       "      <td>Dinner</td>\n",
       "      <td>3</td>\n",
       "      <td>0.191244</td>\n",
       "      <td>8.68</td>\n",
       "    </tr>\n",
       "    <tr>\n",
       "      <th>2</th>\n",
       "      <td>21.01</td>\n",
       "      <td>3.50</td>\n",
       "      <td>Male</td>\n",
       "      <td>No</td>\n",
       "      <td>Sun</td>\n",
       "      <td>Dinner</td>\n",
       "      <td>3</td>\n",
       "      <td>0.199886</td>\n",
       "      <td>17.51</td>\n",
       "    </tr>\n",
       "    <tr>\n",
       "      <th>3</th>\n",
       "      <td>23.68</td>\n",
       "      <td>3.31</td>\n",
       "      <td>Male</td>\n",
       "      <td>No</td>\n",
       "      <td>Sun</td>\n",
       "      <td>Dinner</td>\n",
       "      <td>2</td>\n",
       "      <td>0.162494</td>\n",
       "      <td>20.37</td>\n",
       "    </tr>\n",
       "    <tr>\n",
       "      <th>4</th>\n",
       "      <td>24.59</td>\n",
       "      <td>3.61</td>\n",
       "      <td>Female</td>\n",
       "      <td>No</td>\n",
       "      <td>Sun</td>\n",
       "      <td>Dinner</td>\n",
       "      <td>4</td>\n",
       "      <td>0.172069</td>\n",
       "      <td>20.98</td>\n",
       "    </tr>\n",
       "  </tbody>\n",
       "</table>\n",
       "</div>"
      ],
      "text/plain": [
       "   total_bill   tip     sex smoker  day    time  size   tip_pct  net_bill\n",
       "0       16.99  1.01  Female     No  Sun  Dinner     2  0.063204     15.98\n",
       "1       10.34  1.66    Male     No  Sun  Dinner     3  0.191244      8.68\n",
       "2       21.01  3.50    Male     No  Sun  Dinner     3  0.199886     17.51\n",
       "3       23.68  3.31    Male     No  Sun  Dinner     2  0.162494     20.37\n",
       "4       24.59  3.61  Female     No  Sun  Dinner     4  0.172069     20.98"
      ]
     },
     "execution_count": 4,
     "metadata": {},
     "output_type": "execute_result"
    }
   ],
   "source": [
    "tips = sns.load_dataset(\"tips\")\n",
    "tips['tip_pct'] = tips['tip'] / (tips['total_bill'] - tips['tip'])\n",
    "tips['net_bill'] = tips['total_bill'] - tips['tip']\n",
    "tips.head()"
   ]
  },
  {
   "cell_type": "code",
   "execution_count": 10,
   "metadata": {},
   "outputs": [
    {
     "name": "stdout",
     "output_type": "stream",
     "text": [
      "                            OLS Regression Results                            \n",
      "==============================================================================\n",
      "Dep. Variable:                    tip   R-squared:                       0.338\n",
      "Model:                            OLS   Adj. R-squared:                  0.318\n",
      "Method:                 Least Squares   F-statistic:                     17.19\n",
      "Date:                Wed, 20 Aug 2025   Prob (F-statistic):           2.49e-18\n",
      "Time:                        11:29:21   Log-Likelihood:                -374.68\n",
      "No. Observations:                 244   AIC:                             765.4\n",
      "Df Residuals:                     236   BIC:                             793.3\n",
      "Df Model:                           7                                         \n",
      "Covariance Type:            nonrobust                                         \n",
      "==================================================================================\n",
      "                     coef    std err          t      P>|t|      [0.025      0.975]\n",
      "----------------------------------------------------------------------------------\n",
      "Intercept          1.2006      0.259      4.631      0.000       0.690       1.711\n",
      "sex[T.Female]      0.0078      0.158      0.049      0.961      -0.303       0.319\n",
      "smoker[T.No]       0.1193      0.161      0.743      0.458      -0.197       0.436\n",
      "day[T.Fri]         0.1005      0.439      0.229      0.819      -0.764       0.965\n",
      "day[T.Sat]         0.0382      0.524      0.073      0.942      -0.994       1.071\n",
      "day[T.Sun]         0.2029      0.524      0.387      0.699      -0.829       1.235\n",
      "time[T.Dinner]    -0.0428      0.495     -0.086      0.931      -1.017       0.932\n",
      "net_bill           0.0993      0.009     10.514      0.000       0.081       0.118\n",
      "==============================================================================\n",
      "Omnibus:                       37.783   Durbin-Watson:                   2.121\n",
      "Prob(Omnibus):                  0.000   Jarque-Bera (JB):               69.573\n",
      "Skew:                           0.816   Prob(JB):                     7.81e-16\n",
      "Kurtosis:                       5.044   Cond. No.                         239.\n",
      "==============================================================================\n",
      "\n",
      "Notes:\n",
      "[1] Standard Errors assume that the covariance matrix of the errors is correctly specified.\n"
     ]
    }
   ],
   "source": [
    "# 1.\n",
    "y, X = patsy.dmatrices(\"tip ~ sex + smoker + day + time + net_bill\", data=tips, return_type='dataframe')\n",
    "\n",
    "modelo = sm.OLS(y, X).fit()\n",
    "print(modelo.summary())"
   ]
  },
  {
   "cell_type": "code",
   "execution_count": 11,
   "metadata": {
    "scrolled": true
   },
   "outputs": [
    {
     "name": "stdout",
     "output_type": "stream",
     "text": [
      "                            OLS Regression Results                            \n",
      "==============================================================================\n",
      "Dep. Variable:                    tip   R-squared:                       0.335\n",
      "Model:                            OLS   Adj. R-squared:                  0.329\n",
      "Method:                 Least Squares   F-statistic:                     60.67\n",
      "Date:                Wed, 20 Aug 2025   Prob (F-statistic):           4.56e-22\n",
      "Time:                        14:04:04   Log-Likelihood:                -375.20\n",
      "No. Observations:                 244   AIC:                             756.4\n",
      "Df Residuals:                     241   BIC:                             766.9\n",
      "Df Model:                           2                                         \n",
      "Covariance Type:            nonrobust                                         \n",
      "================================================================================\n",
      "                   coef    std err          t      P>|t|      [0.025      0.975]\n",
      "--------------------------------------------------------------------------------\n",
      "Intercept        1.2318      0.200      6.172      0.000       0.839       1.625\n",
      "smoker[T.No]     0.1385      0.150      0.923      0.357      -0.157       0.434\n",
      "net_bill         0.1001      0.009     11.015      0.000       0.082       0.118\n",
      "==============================================================================\n",
      "Omnibus:                       37.031   Durbin-Watson:                   2.120\n",
      "Prob(Omnibus):                  0.000   Jarque-Bera (JB):               66.928\n",
      "Skew:                           0.809   Prob(JB):                     2.93e-15\n",
      "Kurtosis:                       4.991   Cond. No.                         57.1\n",
      "==============================================================================\n",
      "\n",
      "Notes:\n",
      "[1] Standard Errors assume that the covariance matrix of the errors is correctly specified.\n"
     ]
    }
   ],
   "source": [
    "# 2.\n",
    "modelo_ref = smf.ols(\"tip ~ net_bill + smoker\", data=tips).fit()\n",
    "print(modelo_ref.summary())"
   ]
  },
  {
   "cell_type": "code",
   "execution_count": 12,
   "metadata": {
    "scrolled": true
   },
   "outputs": [
    {
     "data": {
      "image/png": "[encoded data removed]",
      "text/plain": [
       "<Figure size 640x480 with 1 Axes>"
      ]
     },
     "metadata": {},
     "output_type": "display_data"
    }
   ],
   "source": [
    "# 3.\n",
    "residuos = modelo_ref.resid\n",
    "plt.scatter(tips['net_bill'], residuos)\n",
    "plt.axhline(0, color='red', linestyle='--')\n",
    "plt.xlabel(\"net_bill\")\n",
    "plt.ylabel(\"Resíduos\")\n",
    "plt.title(\"Resíduos vs net_bill\")\n",
    "plt.show()"
   ]
  },
  {
   "cell_type": "code",
   "execution_count": 13,
   "metadata": {},
   "outputs": [
    {
     "name": "stdout",
     "output_type": "stream",
     "text": [
      "                            OLS Regression Results                            \n",
      "==============================================================================\n",
      "Dep. Variable:                    tip   R-squared:                       0.294\n",
      "Model:                            OLS   Adj. R-squared:                  0.292\n",
      "Method:                 Least Squares   F-statistic:                     101.0\n",
      "Date:                Wed, 20 Aug 2025   Prob (F-statistic):           4.40e-20\n",
      "Time:                        14:05:40   Log-Likelihood:                -382.40\n",
      "No. Observations:                 244   AIC:                             768.8\n",
      "Df Residuals:                     242   BIC:                             775.8\n",
      "Df Model:                           1                                         \n",
      "Covariance Type:            nonrobust                                         \n",
      "====================================================================================\n",
      "                       coef    std err          t      P>|t|      [0.025      0.975]\n",
      "------------------------------------------------------------------------------------\n",
      "Intercept           -1.2575      0.430     -2.924      0.004      -2.104      -0.410\n",
      "np.log(net_bill)     1.5695      0.156     10.049      0.000       1.262       1.877\n",
      "==============================================================================\n",
      "Omnibus:                       73.945   Durbin-Watson:                   2.045\n",
      "Prob(Omnibus):                  0.000   Jarque-Bera (JB):              221.148\n",
      "Skew:                           1.303   Prob(JB):                     9.51e-49\n",
      "Kurtosis:                       6.868   Cond. No.                         17.9\n",
      "==============================================================================\n",
      "\n",
      "Notes:\n",
      "[1] Standard Errors assume that the covariance matrix of the errors is correctly specified.\n",
      "                            OLS Regression Results                            \n",
      "==============================================================================\n",
      "Dep. Variable:                    tip   R-squared:                       0.334\n",
      "Model:                            OLS   Adj. R-squared:                  0.329\n",
      "Method:                 Least Squares   F-statistic:                     60.55\n",
      "Date:                Wed, 20 Aug 2025   Prob (F-statistic):           4.96e-22\n",
      "Time:                        14:05:40   Log-Likelihood:                -375.28\n",
      "No. Observations:                 244   AIC:                             756.6\n",
      "Df Residuals:                     241   BIC:                             767.1\n",
      "Df Model:                           2                                         \n",
      "Covariance Type:            nonrobust                                         \n",
      "====================================================================================\n",
      "                       coef    std err          t      P>|t|      [0.025      0.975]\n",
      "------------------------------------------------------------------------------------\n",
      "Intercept            1.0743      0.353      3.039      0.003       0.378       1.770\n",
      "net_bill             0.1288      0.037      3.493      0.001       0.056       0.202\n",
      "I(net_bill ** 2)    -0.0007      0.001     -0.825      0.410      -0.002       0.001\n",
      "==============================================================================\n",
      "Omnibus:                       39.745   Durbin-Watson:                   2.097\n",
      "Prob(Omnibus):                  0.000   Jarque-Bera (JB):               77.849\n",
      "Skew:                           0.830   Prob(JB):                     1.25e-17\n",
      "Kurtosis:                       5.214   Cond. No.                     2.42e+03\n",
      "==============================================================================\n",
      "\n",
      "Notes:\n",
      "[1] Standard Errors assume that the covariance matrix of the errors is correctly specified.\n",
      "[2] The condition number is large, 2.42e+03. This might indicate that there are\n",
      "strong multicollinearity or other numerical problems.\n"
     ]
    }
   ],
   "source": [
    "# 4.\n",
    "modelo_log = smf.ols(\"tip ~ np.log(net_bill)\", data=tips).fit()\n",
    "print(modelo_log.summary())\n",
    "\n",
    "modelo_poly = smf.ols(\"tip ~ net_bill + I(net_bill**2)\", data=tips).fit()\n",
    "print(modelo_poly.summary())"
   ]
  },
  {
   "cell_type": "markdown",
   "metadata": {},
   "source": [
    "### II. Modelo no valor do percentual da gorjeta\n",
    "\n",
    "1. Crie a matriz de design (e a matriz y) utilizando o Patsy, para um modelo no log de ```tip```, explicado por ```sex, smoker, diner e net_bill```.\n",
    "2. Remova as variáveis não significantes.\n",
    "3. Observe o gráfico de resíduos em função de ```net_bill```\n",
    "4. Teste transformar ```net_bill``` no log e um polinômio. Escolha o melhor modelo.\n",
    "5. Do modelo final deste item, calcule o $R^2$ na escala de ```tip``` (sem o log). Compare com o modelo do item 1. Qual tem melhor coeficiente de determinação?"
   ]
  },
  {
   "cell_type": "code",
   "execution_count": null,
   "metadata": {},
   "outputs": [],
   "source": []
  },
  {
   "cell_type": "markdown",
   "metadata": {},
   "source": [
    "### III. Previsão de renda\n",
    "\n",
    "Vamos trabalhar a base que você vai usar no projeto do final deste ciclo.\n",
    "\n",
    "Carregue a base ```previsao_de_renda.csv```.\n",
    "\n",
    "|variavel|descrição|\n",
    "|-|-|\n",
    "|data_ref                | Data de referência de coleta das variáveis |\n",
    "|index                   | Código de identificação do cliente|\n",
    "|sexo                    | Sexo do cliente|\n",
    "|posse_de_veiculo        | Indica se o cliente possui veículo|\n",
    "|posse_de_imovel         | Indica se o cliente possui imóvel|\n",
    "|qtd_filhos              | Quantidade de filhos do cliente|\n",
    "|tipo_renda              | Tipo de renda do cliente|\n",
    "|educacao                | Grau de instrução do cliente|\n",
    "|estado_civil            | Estado civil do cliente|\n",
    "|tipo_residencia         | Tipo de residência do cliente (própria, alugada etc)|\n",
    "|idade                   | Idade do cliente|\n",
    "|tempo_emprego           | Tempo no emprego atual|\n",
    "|qt_pessoas_residencia   | Quantidade de pessoas que moram na residência|\n",
    "|renda                   | Renda em reais|\n",
    "\n",
    "1. Ajuste um modelo de regressão linear simples para explicar ```renda``` como variável resposta, por ```tempo_emprego``` como variável explicativa. Observe que há muitas observações nessa tabela. Utilize os recursos que achar necessário.\n",
    "2. Faça uma análise de resíduos. Com os recursos vistos neste módulo, como você melhoraria esta regressão?\n",
    "3. Ajuste um modelo de regressão linear múltipla para explicar ```renda``` (ou uma transformação de ```renda```) de acordo com as demais variáveis.\n",
    "4. Remova as variáveis não significantes e ajuste novamente o modelo. Interprete os parâmetros\n",
    "5. Faça uma análise de resíduos. Avalie a qualidade do ajuste."
   ]
  },
  {
   "cell_type": "code",
   "execution_count": 7,
   "metadata": {},
   "outputs": [],
   "source": [
    "df = pd.read_csv('previsao_de_renda.csv')"
   ]
  },
  {
   "cell_type": "code",
   "execution_count": null,
   "metadata": {},
   "outputs": [],
   "source": []
  }
 ],
 "metadata": {
  "kernelspec": {
   "display_name": "Python 3 (ipykernel)",
   "language": "python",
   "name": "python3"
  },
  "language_info": {
   "codemirror_mode": {
    "name": "ipython",
    "version": 3
   },
   "file_extension": ".py",
   "mimetype": "text/x-python",
   "name": "python",
   "nbconvert_exporter": "python",
   "pygments_lexer": "ipython3",
   "version": "3.13.5"
  }
 },
 "nbformat": 4,
 "nbformat_minor": 4
}
