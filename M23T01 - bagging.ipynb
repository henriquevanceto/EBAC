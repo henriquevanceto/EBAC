{
 "cells": [
  {
   "cell_type": "markdown",
   "id": "e103f4ab-c2b0-468c-94bd-fe610bb76c91",
   "metadata": {},
   "source": [
    "# Módulo 23 Tarefa 01"
   ]
  },
  {
   "cell_type": "markdown",
   "id": "25992ee0-a574-449c-aa21-7ca104f708b1",
   "metadata": {},
   "source": [
    "### 1. Monte um passo a passo para o bagging"
   ]
  },
  {
   "cell_type": "markdown",
   "id": "f932c0f3-a4f5-4cd0-aceb-3561a854caca",
   "metadata": {},
   "source": [
    "- Cria-se várias amostras diferentes do conjunto de dados original, escolhendo exemplos com reposição (ou seja, com repetição). Cada amostra terá o mesmo tamanho do dataset original, mas com exemplos repetidos e outros ausentes.\n",
    "- Treina-se um modelo para cada amostra.\n",
    "- Para classificação, a predição final é a votação da maioria dos modelos. Já para regressão, a predição final é a média das saídas dos modelos."
   ]
  },
  {
   "cell_type": "markdown",
   "id": "e39f7fc1-4ae3-4907-ae0f-048a350b482d",
   "metadata": {},
   "source": [
    "<div style=\"text-align: center;\">\n",
    "  <img src=\"Bagging-classifier.png\" width=\"600\">\n",
    "</div>"
   ]
  },
  {
   "cell_type": "markdown",
   "id": "cb3b900c-f2c9-4a5f-a3ec-eb428fdbe1e0",
   "metadata": {},
   "source": [
    "### 2. Explique com suas palavras o que é bagging"
   ]
  },
  {
   "cell_type": "markdown",
   "id": "2bcf71ea-26f8-4aec-b7b4-c58f567ea28c",
   "metadata": {},
   "source": [
    "Bagging é uma técnica de machine learning em que vários modelos iguais são treinados em versões diferentes do mesmo conjunto de dados, e suas previsões são combinadas (por frequência ou média) para obter um resultado mais preciso."
   ]
  },
  {
   "cell_type": "markdown",
   "id": "de5668d8-c964-49df-91c9-ebf1fda1a83e",
   "metadata": {},
   "source": [
    "### 3. Como implementar em python o código do bagging?"
   ]
  },
  {
   "cell_type": "markdown",
   "id": "92c26edc-c924-4242-983b-25bbf2e9ed9a",
   "metadata": {},
   "source": [
    "- Bootstrap: criar subconjuntos amostrados com reposição.\n",
    "- Modelagem: treinar um modelo em cada subconjunto.\n",
    "- Agregação: combinar as previsões (média para regressão ou voto para classificação)."
   ]
  }
 ],
 "metadata": {
  "kernelspec": {
   "display_name": "Python 3 (ipykernel)",
   "language": "python",
   "name": "python3"
  },
  "language_info": {
   "codemirror_mode": {
    "name": "ipython",
    "version": 3
   },
   "file_extension": ".py",
   "mimetype": "text/x-python",
   "name": "python",
   "nbconvert_exporter": "python",
   "pygments_lexer": "ipython3",
   "version": "3.13.5"
  }
 },
 "nbformat": 4,
 "nbformat_minor": 5
}
