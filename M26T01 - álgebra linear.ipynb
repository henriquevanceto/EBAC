{
 "cells": [
  {
   "cell_type": "markdown",
   "metadata": {},
   "source": [
    "# Tarefa - Álgebra Linear\n",
    "\n",
    "A célula abaixo gera dados de notas de duas provas, p1 e p2, conforme em aula, mas com mais alunos.\n",
    "\n",
    "## 1. Reduzindo correlações\n",
    "\n",
    "a) Já vimos que expressar os dados através da média e diferença é uma transformação linear. Obtenha a média e a diferença através de uma multiplicação matricial, conforme visto em aula.\n",
    "\n",
    "b) Calcule a correlação entre os dados da **p1** e **p2**\n",
    "\n",
    "c) Calcule a correlação entre os dados transformados (média e diferença)\n",
    "\n",
    "d) Comente as correlações observadas."
   ]
  },
  {
   "cell_type": "code",
   "execution_count": 1,
   "metadata": {},
   "outputs": [],
   "source": [
    "import pandas as pd\n",
    "import seaborn as sns\n",
    "import numpy as np\n",
    "import matplotlib.pyplot as plt\n",
    "\n",
    "%matplotlib inline\n",
    "\n",
    "# gerando os dados\n",
    "np.random.seed(123)\n",
    "\n",
    "p1 = np.random.random(50) *10\n",
    "p1[p1>10] = 10\n",
    "p1[p1<0] = 0\n",
    "\n",
    "p2 = p1 + np.random.normal(0,1,50)\n",
    "p2[p2>10] = 10\n",
    "p2[p2<0] = 0\n",
    "\n",
    "df = pd.DataFrame({'p1': p1, 'p2': p2})"
   ]
  },
  {
   "cell_type": "code",
   "execution_count": 3,
   "metadata": {
    "scrolled": true
   },
   "outputs": [
    {
     "data": {
      "text/html": [
       "<div>\n",
       "<style scoped>\n",
       "    .dataframe tbody tr th:only-of-type {\n",
       "        vertical-align: middle;\n",
       "    }\n",
       "\n",
       "    .dataframe tbody tr th {\n",
       "        vertical-align: top;\n",
       "    }\n",
       "\n",
       "    .dataframe thead th {\n",
       "        text-align: right;\n",
       "    }\n",
       "</style>\n",
       "<table border=\"1\" class=\"dataframe\">\n",
       "  <thead>\n",
       "    <tr style=\"text-align: right;\">\n",
       "      <th></th>\n",
       "      <th>p1</th>\n",
       "      <th>p2</th>\n",
       "    </tr>\n",
       "  </thead>\n",
       "  <tbody>\n",
       "    <tr>\n",
       "      <th>0</th>\n",
       "      <td>6.964692</td>\n",
       "      <td>7.943428</td>\n",
       "    </tr>\n",
       "    <tr>\n",
       "      <th>1</th>\n",
       "      <td>2.861393</td>\n",
       "      <td>5.099537</td>\n",
       "    </tr>\n",
       "    <tr>\n",
       "      <th>2</th>\n",
       "      <td>2.268515</td>\n",
       "      <td>0.974429</td>\n",
       "    </tr>\n",
       "    <tr>\n",
       "      <th>3</th>\n",
       "      <td>5.513148</td>\n",
       "      <td>4.474359</td>\n",
       "    </tr>\n",
       "    <tr>\n",
       "      <th>4</th>\n",
       "      <td>7.194690</td>\n",
       "      <td>8.938402</td>\n",
       "    </tr>\n",
       "  </tbody>\n",
       "</table>\n",
       "</div>"
      ],
      "text/plain": [
       "         p1        p2\n",
       "0  6.964692  7.943428\n",
       "1  2.861393  5.099537\n",
       "2  2.268515  0.974429\n",
       "3  5.513148  4.474359\n",
       "4  7.194690  8.938402"
      ]
     },
     "execution_count": 3,
     "metadata": {},
     "output_type": "execute_result"
    }
   ],
   "source": [
    "df.head()"
   ]
  },
  {
   "cell_type": "code",
   "execution_count": 19,
   "metadata": {},
   "outputs": [
    {
     "name": "stdout",
     "output_type": "stream",
     "text": [
      "Média: [7.45405986 3.98046502 1.62147187 4.99375359 8.06654581 3.83203323\n",
      " 9.8224836  7.38295537 5.25467221 4.79861827 4.17960223 7.82519341\n",
      " 3.99936809 0.9942103  4.13757855 6.71682133 2.53356683 2.15813583\n",
      " 5.33825878 5.20172984 5.74485901 8.59407998 7.47877281 5.69465761\n",
      " 7.80553585 2.68098762 2.55633638 2.80249585 2.73545744 6.24674645\n",
      " 0.50229104 3.53403035 4.93624632 4.59241648 5.08877915 3.52626632\n",
      " 4.106134   8.39094043 9.07536919 4.41210519 7.2830862  1.23840457\n",
      " 3.74795759 3.5145861  8.75360914 3.09348462 4.66283726 9.92779893\n",
      " 4.65256724 5.44720949]\n",
      "Diferença [-0.489368   -1.11907167  0.64704266  0.51939411 -0.87185611  0.39903137\n",
      " -0.01484162 -0.53465798 -0.4453532  -0.87744309 -0.74782207 -0.53469633\n",
      "  0.38635436 -0.39743133 -0.157136    0.66313273 -0.70864952 -0.40361827\n",
      " -0.02274504  0.11654603  0.59915057 -0.09976204 -0.23421956  0.41557749\n",
      " -0.58110202  0.54860152  1.06155018 -0.51986355  0.20168302  0.06301479\n",
      "  0.41875836  0.80298138 -0.62761869  0.34443449 -0.83047624 -0.40365409\n",
      "  0.15737907  0.5429512   0.36623099  0.60626157 -1.04355668 -0.08222062\n",
      " -0.57510277  0.63367602 -0.09051756 -0.58893097  0.16750538 -0.07220107\n",
      "  0.54228396  0.68173577]\n"
     ]
    }
   ],
   "source": [
    "# a) Média e Diferença\n",
    "m = np.array([[0.5, 0.5], [0.5, -0.5]])\n",
    "dados = df[['p1', 'p2']].to_numpy().T\n",
    "transf = np.matmul(m, dados)\n",
    "\n",
    "media = transf[0, :]\n",
    "diferenca = transf[1, :]\n",
    "\n",
    "print(f'Média:', media)\n",
    "print(f'Diferença', diferenca)"
   ]
  },
  {
   "cell_type": "code",
   "execution_count": 7,
   "metadata": {},
   "outputs": [
    {
     "name": "stdout",
     "output_type": "stream",
     "text": [
      "Correlação p1 e p2: 0.8957365818728046\n"
     ]
    }
   ],
   "source": [
    "# b) correlação entre p1 e p2\n",
    "corr_p1_p2 = np.corrcoef(df['p1'], df['p2'])[0,1]\n",
    "print('Correlação p1 e p2:', corr_p1_p2)"
   ]
  },
  {
   "cell_type": "code",
   "execution_count": 9,
   "metadata": {},
   "outputs": [
    {
     "name": "stdout",
     "output_type": "stream",
     "text": [
      "-0.13347385411788837\n"
     ]
    }
   ],
   "source": [
    "# c) correlação entre média e diferença\n",
    "corr_media_diff = np.corrcoef(media, diferenca)[0, 1]\n",
    "print(corr_media_diff)"
   ]
  },
  {
   "cell_type": "markdown",
   "metadata": {
    "jp-MarkdownHeadingCollapsed": true
   },
   "source": [
    "d) comente as correlações observadas"
   ]
  },
  {
   "cell_type": "markdown",
   "metadata": {},
   "source": [
    "A correlação entre p1 e p2 possui um valor alto, o que significa que p1 e p2 estão bastante relacionadas, ou seja, quando uma aumenta, a outra também aumenta. Já a correlação entre média e diferença apresenta um valor negativo, o que significa que, depois da transformação linear para calcular média e diferença, as novas variáveis tornam-se praticamente descorrelacionadas."
   ]
  },
  {
   "cell_type": "markdown",
   "metadata": {},
   "source": [
    "## 2. Soma e diferença\n",
    "\n",
    "Realize agora uma transformação semelhante, mas que ao invés da média, dê a soma da **p1** e **p2**. Construa o gráfico e conclua que diferenças visuais você observa."
   ]
  },
  {
   "cell_type": "code",
   "execution_count": 13,
   "metadata": {},
   "outputs": [],
   "source": [
    "# matriz de transformação\n",
    "m = np.array([[1, 1],\n",
    "              [1, -1]])"
   ]
  },
  {
   "cell_type": "code",
   "execution_count": 14,
   "metadata": {},
   "outputs": [],
   "source": [
    "# aplicando a transformação\n",
    "dados = df[['p1', 'p2']].to_numpy().T\n",
    "transf = np.matmul(m, dados)\n",
    "soma = transf[0, :]\n",
    "diferenca = transf[1, :]"
   ]
  },
  {
   "cell_type": "code",
   "execution_count": 18,
   "metadata": {},
   "outputs": [
    {
     "data": {
      "image/png": "[encoded data removed]",
      "text/plain": [
       "<Figure size 800x600 with 1 Axes>"
      ]
     },
     "metadata": {},
     "output_type": "display_data"
    }
   ],
   "source": [
    "# plotando o gráfico\n",
    "plt.figure(figsize=(8,6))\n",
    "plt.scatter(soma, diferenca, c='orange', label='Soma vs Diferença')\n",
    "plt.xlabel('Soma (p1 + p2)')\n",
    "plt.ylabel('Diferença (p1 - p2)')\n",
    "plt.title('Soma x Diferença das variáveis originais')\n",
    "plt.legend()\n",
    "plt.gca().set_aspect('equal', adjustable='box')\n",
    "plt.show()"
   ]
  },
  {
   "cell_type": "markdown",
   "metadata": {},
   "source": [
    "- Os pontos estão mais espalhados no eixo horizontal, indicando que a soma de p1 e p2 varia bastante, visto que estão positivamente correlacionados\n",
    "- Há pouca dispersão no eixo das diferenças, indicando que p1 e p2 costumam ser próximos\n",
    "- De forma geral, o gráfico mostra o que já foi visto nos cálculos: dados muito correlacionados ficam alinhados principalmente ao longo do eixo da soma, e com pouca dispersão no eixo da diferença."
   ]
  }
 ],
 "metadata": {
  "kernelspec": {
   "display_name": "Python 3 (ipykernel)",
   "language": "python",
   "name": "python3"
  },
  "language_info": {
   "codemirror_mode": {
    "name": "ipython",
    "version": 3
   },
   "file_extension": ".py",
   "mimetype": "text/x-python",
   "name": "python",
   "nbconvert_exporter": "python",
   "pygments_lexer": "ipython3",
   "version": "3.13.5"
  },
  "toc": {
   "base_numbering": 1,
   "nav_menu": {},
   "number_sections": false,
   "sideBar": true,
   "skip_h1_title": false,
   "title_cell": "Índice",
   "title_sidebar": "Conteúdo",
   "toc_cell": false,
   "toc_position": {
    "height": "calc(100% - 180px)",
    "left": "10px",
    "top": "150px",
    "width": "257.6px"
   },
   "toc_section_display": true,
   "toc_window_display": false
  },
  "varInspector": {
   "cols": {
    "lenName": 16,
    "lenType": 16,
    "lenVar": 40
   },
   "kernels_config": {
    "python": {
     "delete_cmd_postfix": "",
     "delete_cmd_prefix": "del ",
     "library": "var_list.py",
     "varRefreshCmd": "print(var_dic_list())"
    },
    "r": {
     "delete_cmd_postfix": ") ",
     "delete_cmd_prefix": "rm(",
     "library": "var_list.r",
     "varRefreshCmd": "cat(var_dic_list()) "
    }
   },
   "types_to_exclude": [
    "module",
    "function",
    "builtin_function_or_method",
    "instance",
    "_Feature"
   ],
   "window_display": false
  }
 },
 "nbformat": 4,
 "nbformat_minor": 4
}
