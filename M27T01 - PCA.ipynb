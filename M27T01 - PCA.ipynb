{
 "cells": [
  {
   "cell_type": "markdown",
   "metadata": {},
   "source": [
    "![Cabec%CC%A7alho_notebook.png](cabecalho_notebook.png)"
   ]
  },
  {
   "cell_type": "markdown",
   "metadata": {},
   "source": [
    "# PCA - Tarefa 01: *HAR* com PCA\n",
    "\n",
    "Vamos trabalhar com a base da demonstração feita em aula, mas vamos explorar um pouco melhor como é o desempenho da árvore variando o número de componentes principais."
   ]
  },
  {
   "cell_type": "code",
   "execution_count": 1,
   "metadata": {},
   "outputs": [],
   "source": [
    "import pandas as pd\n",
    "import matplotlib.pyplot as plt\n",
    "from sklearn.tree import DecisionTreeClassifier\n",
    "from sklearn.decomposition import PCA\n",
    "from sklearn.metrics import accuracy_score\n",
    "from sklearn.model_selection import cross_val_score, GridSearchCV\n",
    "\n",
    "filename_features = r\"C:\\Users\\cepir\\Documents\\Henrique\\EBAC\\features.txt\"\n",
    "filename_labels = r\"C:\\Users\\cepir\\Documents\\Henrique\\EBAC\\activity_labels.txt\"\n",
    "\n",
    "filename_subtrain = r\"C:\\Users\\cepir\\Documents\\Henrique\\EBAC\\subject_train.txt\"\n",
    "filename_xtrain = r\"C:\\Users\\cepir\\Documents\\Henrique\\EBAC\\X_train.txt\"\n",
    "filename_ytrain = r\"C:\\Users\\cepir\\Documents\\Henrique\\EBAC\\y_train.txt\"\n",
    "\n",
    "filename_subtest = r\"C:\\Users\\cepir\\Documents\\Henrique\\EBAC\\subject_test.txt\"\n",
    "filename_xtest = r\"C:\\Users\\cepir\\Documents\\Henrique\\EBAC\\X_test.txt\"\n",
    "filename_ytest = r\"C:\\Users\\cepir\\Documents\\Henrique\\EBAC\\y_test.txt\"\n",
    "\n",
    "# Carrega os nomes das features\n",
    "features = pd.read_csv(filename_features, header=None, names=['cod_label', 'nome_var'], sep=\"#\")\n",
    "labels = pd.read_csv(filename_labels, sep=\"\\s+\", header=None, names=['cod_label', 'label'])\n",
    "\n",
    "# Corrigido: usa apenas a coluna com os nomes das variáveis\n",
    "feature_names = features['nome_var'].tolist()\n",
    "\n",
    "subject_train = pd.read_csv(filename_subtrain, header=None, names=['subject_id'])\n",
    "X_train = pd.read_csv(filename_xtrain, sep=\"\\s+\", header=None, names=feature_names)\n",
    "y_train = pd.read_csv(filename_ytrain, header=None, names=['cod_label'])\n",
    "\n",
    "subject_test = pd.read_csv(filename_subtest, header=None, names=['subject_id'])\n",
    "X_test = pd.read_csv(filename_xtest, sep=\"\\s+\", header=None, names=feature_names)\n",
    "y_test = pd.read_csv(filename_ytest, header=None, names=['cod_label'])"
   ]
  },
  {
   "cell_type": "markdown",
   "metadata": {},
   "source": [
    "## Árvore de decisão\n",
    "\n",
    "Rode uma árvore de decisão com todas as variáveis, utilizando o ```ccp_alpha=0.001```. Avalie a acurácia nas bases de treinamento e teste. Avalie o tempo de processamento."
   ]
  },
  {
   "cell_type": "code",
   "execution_count": 2,
   "metadata": {},
   "outputs": [
    {
     "name": "stdout",
     "output_type": "stream",
     "text": [
      "Acurácia - Treinamento: 0.9758\n",
      "Acurácia - Teste: 0.8799\n",
      "CPU times: total: 9.42 s\n",
      "Wall time: 10.6 s\n"
     ]
    }
   ],
   "source": [
    "%%time\n",
    "clf = DecisionTreeClassifier(ccp_alpha=0.001, random_state=42)\n",
    "clf.fit(X_train, y_train)\n",
    "\n",
    "y_pred_train = clf.predict(X_train)\n",
    "y_pred_test = clf.predict(X_test)\n",
    "\n",
    "acc_train = accuracy_score(y_train, y_pred_train)\n",
    "acc_test = accuracy_score(y_test, y_pred_test)\n",
    "\n",
    "print(f\"Acurácia - Treinamento: {acc_train:.4f}\")\n",
    "print(f\"Acurácia - Teste: {acc_test:.4f}\")"
   ]
  },
  {
   "cell_type": "markdown",
   "metadata": {},
   "source": [
    "## Árvore com PCA\n",
    "\n",
    "Faça uma análise de componemtes principais das variáveis originais. Utilize apenas uma componente. Faça uma árvore de decisão com esta componente como variável explicativa.\n",
    "\n",
    "- Avalie a acurácia nas bases de treinamento e teste\n",
    "- Avalie o tempo de processamento"
   ]
  },
  {
   "cell_type": "code",
   "execution_count": 3,
   "metadata": {},
   "outputs": [
    {
     "name": "stdout",
     "output_type": "stream",
     "text": [
      "Acurácia - Treinamento: 0.4997\n",
      "Acurácia - Teste: 0.4571\n",
      "CPU times: total: 938 ms\n",
      "Wall time: 667 ms\n"
     ]
    }
   ],
   "source": [
    "%%time\n",
    "pca = PCA(n_components=1)\n",
    "X_train_pca = pca.fit_transform(X_train)\n",
    "X_test_pca = pca.transform(X_test)\n",
    "\n",
    "clf_pca = DecisionTreeClassifier(ccp_alpha=0.001, random_state=42)\n",
    "clf_pca.fit(X_train_pca, y_train)\n",
    "\n",
    "y_pred_train_pca = clf_pca.predict(X_train_pca)\n",
    "y_pred_test_pca = clf_pca.predict(X_test_pca)\n",
    "\n",
    "acc_train_pca = accuracy_score(y_train, y_pred_train_pca)\n",
    "acc_test_pca = accuracy_score(y_test, y_pred_test_pca)\n",
    "\n",
    "print(f\"Acurácia - Treinamento: {acc_train_pca:.4f}\")\n",
    "print(f\"Acurácia - Teste: {acc_test_pca:.4f}\")"
   ]
  },
  {
   "cell_type": "markdown",
   "metadata": {},
   "source": [
    "## Testando o número de componentes\n",
    "\n",
    "Com base no código acima, teste a árvore de classificação com pelo menos as seguintes possibilidades de quantidades de componentes: ```[1, 2, 5, 10, 50]```. Avalie para cada uma delas:\n",
    "\n",
    "- Acurácia nas bases de treino e teste\n",
    "- Tempo de processamento\n"
   ]
  },
  {
   "cell_type": "code",
   "execution_count": 4,
   "metadata": {},
   "outputs": [
    {
     "data": {
      "text/html": [
       "<div>\n",
       "<style scoped>\n",
       "    .dataframe tbody tr th:only-of-type {\n",
       "        vertical-align: middle;\n",
       "    }\n",
       "\n",
       "    .dataframe tbody tr th {\n",
       "        vertical-align: top;\n",
       "    }\n",
       "\n",
       "    .dataframe thead th {\n",
       "        text-align: right;\n",
       "    }\n",
       "</style>\n",
       "<table border=\"1\" class=\"dataframe\">\n",
       "  <thead>\n",
       "    <tr style=\"text-align: right;\">\n",
       "      <th></th>\n",
       "      <th>n_componentes</th>\n",
       "      <th>acuracia_treino</th>\n",
       "      <th>acuracia_teste</th>\n",
       "    </tr>\n",
       "  </thead>\n",
       "  <tbody>\n",
       "    <tr>\n",
       "      <th>0</th>\n",
       "      <td>1</td>\n",
       "      <td>0.499728</td>\n",
       "      <td>0.457075</td>\n",
       "    </tr>\n",
       "    <tr>\n",
       "      <th>1</th>\n",
       "      <td>2</td>\n",
       "      <td>0.612758</td>\n",
       "      <td>0.584662</td>\n",
       "    </tr>\n",
       "    <tr>\n",
       "      <th>2</th>\n",
       "      <td>5</td>\n",
       "      <td>0.846028</td>\n",
       "      <td>0.788599</td>\n",
       "    </tr>\n",
       "    <tr>\n",
       "      <th>3</th>\n",
       "      <td>10</td>\n",
       "      <td>0.892682</td>\n",
       "      <td>0.824228</td>\n",
       "    </tr>\n",
       "    <tr>\n",
       "      <th>4</th>\n",
       "      <td>50</td>\n",
       "      <td>0.919342</td>\n",
       "      <td>0.822871</td>\n",
       "    </tr>\n",
       "  </tbody>\n",
       "</table>\n",
       "</div>"
      ],
      "text/plain": [
       "   n_componentes  acuracia_treino  acuracia_teste\n",
       "0              1         0.499728        0.457075\n",
       "1              2         0.612758        0.584662\n",
       "2              5         0.846028        0.788599\n",
       "3             10         0.892682        0.824228\n",
       "4             50         0.919342        0.822871"
      ]
     },
     "metadata": {},
     "output_type": "display_data"
    },
    {
     "name": "stdout",
     "output_type": "stream",
     "text": [
      "CPU times: total: 5.89 s\n",
      "Wall time: 3.57 s\n"
     ]
    }
   ],
   "source": [
    "%%time\n",
    "componentes = [1, 2, 5, 10, 50]\n",
    "resultados = []\n",
    "\n",
    "for n in componentes:\n",
    "   \n",
    "    pca = PCA(n_components=n)\n",
    "    X_train_pca = pca.fit_transform(X_train)\n",
    "    X_test_pca = pca.transform(X_test)\n",
    "    \n",
    "    clf = DecisionTreeClassifier(ccp_alpha=0.001, random_state=42)\n",
    "    clf.fit(X_train_pca, y_train)\n",
    "    \n",
    "    y_pred_train = clf.predict(X_train_pca)\n",
    "    y_pred_test = clf.predict(X_test_pca)\n",
    "    \n",
    "    acc_train = accuracy_score(y_train, y_pred_train)\n",
    "    acc_test = accuracy_score(y_test, y_pred_test)\n",
    "  \n",
    "    \n",
    "    resultados.append({\n",
    "        'n_componentes': n,\n",
    "        'acuracia_treino': acc_train,\n",
    "        'acuracia_teste': acc_test,\n",
    "})\n",
    "\n",
    "resultados_df = pd.DataFrame(resultados)\n",
    "display(resultados_df)"
   ]
  },
  {
   "cell_type": "code",
   "execution_count": 5,
   "metadata": {},
   "outputs": [
    {
     "data": {
      "image/png": "[encoded data removed]",
      "text/plain": [
       "<Figure size 800x500 with 1 Axes>"
      ]
     },
     "metadata": {},
     "output_type": "display_data"
    }
   ],
   "source": [
    "plt.figure(figsize=(8,5))\n",
    "plt.plot(resultados_df['n_componentes'], resultados_df['acuracia_treino'], marker='o', label='Treino')\n",
    "plt.plot(resultados_df['n_componentes'], resultados_df['acuracia_teste'], marker='s', label='Teste')\n",
    "plt.xlabel('Número de Componentes (PCA)')\n",
    "plt.ylabel('Acurácia')\n",
    "plt.title('Desempenho da Árvore de Decisão com PCA')\n",
    "plt.legend()\n",
    "plt.grid(True)\n",
    "plt.show()"
   ]
  },
  {
   "cell_type": "markdown",
   "metadata": {},
   "source": [
    "## Conclua\n",
    "\n",
    "- O que aconteceu com a acurácia?\n",
    "- O que aconteceu com o tempo de processamento?"
   ]
  },
  {
   "cell_type": "markdown",
   "metadata": {},
   "source": [
    "A acurácia aumentou rapidamente até cerca de 5 a 10 componentes e depois se estabilizou. Ganhos adicionais foram mínimos, indicando que poucas componentes já capturam bem a informação dos dados. O tempo aumentou conforme o número de componentes cresceu, mas de forma moderada. Mais componentes exigem mais cálculos no PCA e na árvore."
   ]
  }
 ],
 "metadata": {
  "kernelspec": {
   "display_name": "Python [conda env:base] *",
   "language": "python",
   "name": "conda-base-py"
  },
  "language_info": {
   "codemirror_mode": {
    "name": "ipython",
    "version": 3
   },
   "file_extension": ".py",
   "mimetype": "text/x-python",
   "name": "python",
   "nbconvert_exporter": "python",
   "pygments_lexer": "ipython3",
   "version": "3.13.5"
  },
  "toc": {
   "base_numbering": 1,
   "nav_menu": {},
   "number_sections": true,
   "sideBar": true,
   "skip_h1_title": true,
   "title_cell": "Índice",
   "title_sidebar": "Conteúdo",
   "toc_cell": false,
   "toc_position": {},
   "toc_section_display": true,
   "toc_window_display": false
  },
  "varInspector": {
   "cols": {
    "lenName": 16,
    "lenType": 16,
    "lenVar": 40
   },
   "kernels_config": {
    "python": {
     "delete_cmd_postfix": "",
     "delete_cmd_prefix": "del ",
     "library": "var_list.py",
     "varRefreshCmd": "print(var_dic_list())"
    },
    "r": {
     "delete_cmd_postfix": ") ",
     "delete_cmd_prefix": "rm(",
     "library": "var_list.r",
     "varRefreshCmd": "cat(var_dic_list()) "
    }
   },
   "types_to_exclude": [
    "module",
    "function",
    "builtin_function_or_method",
    "instance",
    "_Feature"
   ],
   "window_display": false
  }
 },
 "nbformat": 4,
 "nbformat_minor": 4
}
