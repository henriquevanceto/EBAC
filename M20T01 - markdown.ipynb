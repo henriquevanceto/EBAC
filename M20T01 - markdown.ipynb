{
 "cells": [
  {
   "cell_type": "markdown",
   "id": "3f020d14-78e7-44de-93ee-7e8a8e1fb170",
   "metadata": {},
   "source": [
    "# Fórmula de Bhaskara"
   ]
  },
  {
   "cell_type": "markdown",
   "id": "86ba80fa-74d5-4f48-a838-316e83272be2",
   "metadata": {},
   "source": [
    "A solução para uma função de segundo grau depende das suas raízes (valores de x). Como já vimos, os coeficientes precisam ser números reais e o angular diferente de zero. Sendo assim, temos a seguinte fórmula de Bhaskara:"
   ]
  },
  {
   "cell_type": "markdown",
   "id": "8e3bcb5a-216f-435b-9128-3ba2a8aef476",
   "metadata": {},
   "source": [
    "<img src=\"https://images.educamaisbrasil.com.br/content/banco_de_imagens/mb/D/formula-de-bhaskara-equacao.jpg\" width=\"400\" style=\"display:block; margin:auto;\">"
   ]
  },
  {
   "cell_type": "markdown",
   "id": "e0640f5c-2015-447a-9d06-3ad7efaaa031",
   "metadata": {},
   "source": [
    "Para melhor compreensão o seu cálculo é dividido em duas partes: discriminante da equação e operações para determinar as raízes."
   ]
  },
  {
   "cell_type": "markdown",
   "id": "0d9fd5ea-d20f-47dd-a80c-70c690cb9306",
   "metadata": {},
   "source": [
    "## Discriminante"
   ]
  },
  {
   "cell_type": "markdown",
   "id": "5a8fc72b-e2e3-4606-a7b1-69eb7b63a39a",
   "metadata": {},
   "source": [
    "A figura dentro da raiz na fórmula de Bhaskara é nomeada de discriminante. Seu símbolo é a letra grega delta e apresenta a determinada fórmula:"
   ]
  },
  {
   "cell_type": "markdown",
   "id": "a02b35c8-cf44-4d02-82ce-e99d684f26be",
   "metadata": {
    "scrolled": true
   },
   "source": [
    "<img src=\"https://images.educamaisbrasil.com.br/content/banco_de_imagens/mb/D/formula-delta.jpg\" width=\"400\" style=\"display:block; margin:auto;\">"
   ]
  },
  {
   "cell_type": "markdown",
   "id": "4941db34-caa7-405e-8575-5bc7b7797b07",
   "metadata": {},
   "source": [
    "- Se o delta for maior que zero, a equação terá dois valores reais e distintos.\n",
    "- Se o delta for igual a zero, a equação terá somente um valor real ou dois resultados iguais.\n",
    "- Se o delta for menor que zero, a equação não possuirá valores reais."
   ]
  }
 ],
 "metadata": {
  "kernelspec": {
   "display_name": "Python [conda env:base] *",
   "language": "python",
   "name": "conda-base-py"
  },
  "language_info": {
   "codemirror_mode": {
    "name": "ipython",
    "version": 3
   },
   "file_extension": ".py",
   "mimetype": "text/x-python",
   "name": "python",
   "nbconvert_exporter": "python",
   "pygments_lexer": "ipython3",
   "version": "3.13.5"
  }
 },
 "nbformat": 4,
 "nbformat_minor": 5
}
